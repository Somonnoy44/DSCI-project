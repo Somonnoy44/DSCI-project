{
 "cells": [
  {
   "cell_type": "code",
   "execution_count": 60,
   "id": "A0YDLyMHyeeN",
   "metadata": {
    "id": "A0YDLyMHyeeN"
   },
   "outputs": [],
   "source": [
    "import warnings\n",
    "warnings.filterwarnings('ignore')"
   ]
  },
  {
   "cell_type": "code",
   "execution_count": 61,
   "id": "b6bbcf90",
   "metadata": {
    "id": "b6bbcf90"
   },
   "outputs": [],
   "source": [
    "# import gzip\n",
    "# import csv\n",
    "# with gzip.open('day_0.gz', 'rt') as f:\n",
    "\n",
    "#     tsv_reader = csv.reader(f, delimiter=\"\\t\")\n",
    "\n",
    "#     number_of_lines = 10\n",
    "\n",
    "#     for i in range(number_of_lines):\n",
    "#         row = next(tsv_reader)\n",
    "#         print(i, row)"
   ]
  },
  {
   "cell_type": "code",
   "execution_count": 62,
   "id": "99f8472e",
   "metadata": {
    "id": "99f8472e"
   },
   "outputs": [],
   "source": [
    "# import gzip\n",
    "# import csv\n",
    "# with gzip.open('day_0.gz', 'rt') as f:\n",
    "\n",
    "#     tsv_reader = csv.reader(f, delimiter=\"\\t\")\n",
    "\n",
    "#     number_of_lines = 100\n",
    "\n",
    "#     for i in range(number_of_lines):\n",
    "#         row = next(tsv_reader)\n",
    "#         print(i, row)"
   ]
  },
  {
   "cell_type": "code",
   "execution_count": 63,
   "id": "572c4d93",
   "metadata": {
    "id": "572c4d93"
   },
   "outputs": [],
   "source": [
    "# import gzip\n",
    "# import csv\n",
    "# with gzip.open('day_0.gz', 'rt') as f:\n",
    "\n",
    "#     tsv_reader = csv.reader(f, delimiter=\"\\t\")\n",
    "\n",
    "#     number_of_lines = 100\n",
    "\n",
    "#     for i in range(number_of_lines):\n",
    "#         row = next(tsv_reader)\n",
    "#         for j in row:\n",
    "#             print(j)"
   ]
  },
  {
   "cell_type": "code",
   "execution_count": 64,
   "id": "1040119e",
   "metadata": {
    "id": "1040119e"
   },
   "outputs": [],
   "source": [
    "# import gzip\n",
    "# import csv\n",
    "# import pandas as pd\n",
    "# list = []\n",
    "# with gzip.open('day_0.gz', 'rt') as f:\n",
    "\n",
    "#     tsv_reader = csv.reader(f, delimiter=\"\\t\")\n",
    "\n",
    "#     number_of_lines = 1000\n",
    "\n",
    "#     for i in range(number_of_lines):\n",
    "#         row = next(tsv_reader)\n",
    "#         list.append(row)\n",
    "#         df=pd.DataFrame(list,columns=['Col 1','Col 2','Col 3','Col 4','Col 5','Col 6','Col 7','Col 8','Col 9','Col 10','Col 11','Col 12','Col 13','Col 14','Col 15','Col 16','Col 17','Col 18','Col 19','Col 20','Col 21','Col 22','Col 23','Col 24','Col 25','Col 26','Col 27','Col 28','Col 29','Col 30','Col 31','Col 32','Col 33','Col 34','Col 35','Col 36','Col 37','Col 38','Col 39','Col 40'])\n",
    "        "
   ]
  },
  {
   "cell_type": "code",
   "execution_count": 65,
   "id": "b7585df8",
   "metadata": {
    "id": "b7585df8"
   },
   "outputs": [],
   "source": [
    "import pandas as pd\n",
    "df = pd.read_csv(r\"C:\\Users\\envy\\Downloads\\Datasets\\Day 0\\criteo_twenty_thousand_day_0.csv\")"
   ]
  },
  {
   "cell_type": "code",
   "execution_count": 66,
   "id": "Lyo1l5dTfBJ1",
   "metadata": {
    "colab": {
     "base_uri": "https://localhost:8080/",
     "height": 235
    },
    "id": "Lyo1l5dTfBJ1",
    "outputId": "cd2a07a6-7887-4667-9939-a1f3a50ce5bc"
   },
   "outputs": [
    {
     "data": {
      "text/html": [
       "<div>\n",
       "<style scoped>\n",
       "    .dataframe tbody tr th:only-of-type {\n",
       "        vertical-align: middle;\n",
       "    }\n",
       "\n",
       "    .dataframe tbody tr th {\n",
       "        vertical-align: top;\n",
       "    }\n",
       "\n",
       "    .dataframe thead th {\n",
       "        text-align: right;\n",
       "    }\n",
       "</style>\n",
       "<table border=\"1\" class=\"dataframe\">\n",
       "  <thead>\n",
       "    <tr style=\"text-align: right;\">\n",
       "      <th></th>\n",
       "      <th>Col 1</th>\n",
       "      <th>Col 2</th>\n",
       "      <th>Col 3</th>\n",
       "      <th>Col 4</th>\n",
       "      <th>Col 5</th>\n",
       "      <th>Col 6</th>\n",
       "      <th>Col 7</th>\n",
       "      <th>Col 8</th>\n",
       "      <th>Col 9</th>\n",
       "      <th>Col 10</th>\n",
       "      <th>...</th>\n",
       "      <th>Col 31</th>\n",
       "      <th>Col 32</th>\n",
       "      <th>Col 33</th>\n",
       "      <th>Col 34</th>\n",
       "      <th>Col 35</th>\n",
       "      <th>Col 36</th>\n",
       "      <th>Col 37</th>\n",
       "      <th>Col 38</th>\n",
       "      <th>Col 39</th>\n",
       "      <th>Col 40</th>\n",
       "    </tr>\n",
       "  </thead>\n",
       "  <tbody>\n",
       "    <tr>\n",
       "      <th>0</th>\n",
       "      <td>1</td>\n",
       "      <td>5.0</td>\n",
       "      <td>110.0</td>\n",
       "      <td>NaN</td>\n",
       "      <td>16.0</td>\n",
       "      <td>NaN</td>\n",
       "      <td>1.0</td>\n",
       "      <td>0.0</td>\n",
       "      <td>14</td>\n",
       "      <td>7</td>\n",
       "      <td>...</td>\n",
       "      <td>d20856aa</td>\n",
       "      <td>b8170bba</td>\n",
       "      <td>9512c20b</td>\n",
       "      <td>c38e2f28</td>\n",
       "      <td>14f65a5d</td>\n",
       "      <td>25b1b089</td>\n",
       "      <td>d7c1fc0b</td>\n",
       "      <td>7caf609c</td>\n",
       "      <td>30436bfc</td>\n",
       "      <td>ed10571d</td>\n",
       "    </tr>\n",
       "    <tr>\n",
       "      <th>1</th>\n",
       "      <td>0</td>\n",
       "      <td>32.0</td>\n",
       "      <td>3.0</td>\n",
       "      <td>5.0</td>\n",
       "      <td>NaN</td>\n",
       "      <td>1.0</td>\n",
       "      <td>0.0</td>\n",
       "      <td>0.0</td>\n",
       "      <td>61</td>\n",
       "      <td>5</td>\n",
       "      <td>...</td>\n",
       "      <td>d20856aa</td>\n",
       "      <td>a1eb1511</td>\n",
       "      <td>9512c20b</td>\n",
       "      <td>febfd863</td>\n",
       "      <td>a3323ca1</td>\n",
       "      <td>c8e1ee56</td>\n",
       "      <td>1752e9e8</td>\n",
       "      <td>75350c8a</td>\n",
       "      <td>991321ea</td>\n",
       "      <td>b757e957</td>\n",
       "    </tr>\n",
       "    <tr>\n",
       "      <th>2</th>\n",
       "      <td>0</td>\n",
       "      <td>NaN</td>\n",
       "      <td>233.0</td>\n",
       "      <td>1.0</td>\n",
       "      <td>146.0</td>\n",
       "      <td>1.0</td>\n",
       "      <td>0.0</td>\n",
       "      <td>0.0</td>\n",
       "      <td>99</td>\n",
       "      <td>7</td>\n",
       "      <td>...</td>\n",
       "      <td>d20856aa</td>\n",
       "      <td>628f1b8d</td>\n",
       "      <td>9512c20b</td>\n",
       "      <td>c38e2f28</td>\n",
       "      <td>14f65a5d</td>\n",
       "      <td>25b1b089</td>\n",
       "      <td>d7c1fc0b</td>\n",
       "      <td>34a9b905</td>\n",
       "      <td>ff654802</td>\n",
       "      <td>ed10571d</td>\n",
       "    </tr>\n",
       "    <tr>\n",
       "      <th>3</th>\n",
       "      <td>0</td>\n",
       "      <td>NaN</td>\n",
       "      <td>24.0</td>\n",
       "      <td>NaN</td>\n",
       "      <td>11.0</td>\n",
       "      <td>24.0</td>\n",
       "      <td>NaN</td>\n",
       "      <td>0.0</td>\n",
       "      <td>56</td>\n",
       "      <td>3</td>\n",
       "      <td>...</td>\n",
       "      <td>1f7fc70b</td>\n",
       "      <td>a1eb1511</td>\n",
       "      <td>9512c20b</td>\n",
       "      <td>NaN</td>\n",
       "      <td>NaN</td>\n",
       "      <td>NaN</td>\n",
       "      <td>dc209cd3</td>\n",
       "      <td>b8a81fb0</td>\n",
       "      <td>30436bfc</td>\n",
       "      <td>b757e957</td>\n",
       "    </tr>\n",
       "    <tr>\n",
       "      <th>4</th>\n",
       "      <td>0</td>\n",
       "      <td>60.0</td>\n",
       "      <td>223.0</td>\n",
       "      <td>6.0</td>\n",
       "      <td>15.0</td>\n",
       "      <td>5.0</td>\n",
       "      <td>0.0</td>\n",
       "      <td>0.0</td>\n",
       "      <td>1</td>\n",
       "      <td>8</td>\n",
       "      <td>...</td>\n",
       "      <td>d20856aa</td>\n",
       "      <td>d9f758ff</td>\n",
       "      <td>9512c20b</td>\n",
       "      <td>c709ec07</td>\n",
       "      <td>2b07677e</td>\n",
       "      <td>a89a92a5</td>\n",
       "      <td>aa137169</td>\n",
       "      <td>e619743b</td>\n",
       "      <td>cdc3217e</td>\n",
       "      <td>ed10571d</td>\n",
       "    </tr>\n",
       "  </tbody>\n",
       "</table>\n",
       "<p>5 rows × 40 columns</p>\n",
       "</div>"
      ],
      "text/plain": [
       "   Col 1  Col 2  Col 3  Col 4  Col 5  Col 6  Col 7  Col 8  Col 9  Col 10  ...  \\\n",
       "0      1    5.0  110.0    NaN   16.0    NaN    1.0    0.0     14       7  ...   \n",
       "1      0   32.0    3.0    5.0    NaN    1.0    0.0    0.0     61       5  ...   \n",
       "2      0    NaN  233.0    1.0  146.0    1.0    0.0    0.0     99       7  ...   \n",
       "3      0    NaN   24.0    NaN   11.0   24.0    NaN    0.0     56       3  ...   \n",
       "4      0   60.0  223.0    6.0   15.0    5.0    0.0    0.0      1       8  ...   \n",
       "\n",
       "     Col 31    Col 32    Col 33    Col 34    Col 35    Col 36    Col 37  \\\n",
       "0  d20856aa  b8170bba  9512c20b  c38e2f28  14f65a5d  25b1b089  d7c1fc0b   \n",
       "1  d20856aa  a1eb1511  9512c20b  febfd863  a3323ca1  c8e1ee56  1752e9e8   \n",
       "2  d20856aa  628f1b8d  9512c20b  c38e2f28  14f65a5d  25b1b089  d7c1fc0b   \n",
       "3  1f7fc70b  a1eb1511  9512c20b       NaN       NaN       NaN  dc209cd3   \n",
       "4  d20856aa  d9f758ff  9512c20b  c709ec07  2b07677e  a89a92a5  aa137169   \n",
       "\n",
       "     Col 38    Col 39    Col 40  \n",
       "0  7caf609c  30436bfc  ed10571d  \n",
       "1  75350c8a  991321ea  b757e957  \n",
       "2  34a9b905  ff654802  ed10571d  \n",
       "3  b8a81fb0  30436bfc  b757e957  \n",
       "4  e619743b  cdc3217e  ed10571d  \n",
       "\n",
       "[5 rows x 40 columns]"
      ]
     },
     "execution_count": 66,
     "metadata": {},
     "output_type": "execute_result"
    }
   ],
   "source": [
    "df.head()"
   ]
  },
  {
   "cell_type": "code",
   "execution_count": 67,
   "id": "uPLH3F2vfNRl",
   "metadata": {
    "colab": {
     "base_uri": "https://localhost:8080/"
    },
    "id": "uPLH3F2vfNRl",
    "outputId": "18ed7c33-decd-4f32-a09d-83cbbda03b04"
   },
   "outputs": [
    {
     "data": {
      "text/plain": [
       "Col 1        0\n",
       "Col 2     4682\n",
       "Col 3     1985\n",
       "Col 4     5157\n",
       "Col 5     9784\n",
       "Col 6     9282\n",
       "Col 7     1834\n",
       "Col 8      668\n",
       "Col 9        0\n",
       "Col 10       0\n",
       "Col 11    1834\n",
       "Col 12    9282\n",
       "Col 13     286\n",
       "Col 14    5157\n",
       "Col 15     513\n",
       "Col 16       0\n",
       "Col 17       0\n",
       "Col 18       0\n",
       "Col 19       0\n",
       "Col 20       0\n",
       "Col 21       0\n",
       "Col 22       0\n",
       "Col 23       0\n",
       "Col 24     513\n",
       "Col 25     513\n",
       "Col 26       0\n",
       "Col 27       0\n",
       "Col 28    9170\n",
       "Col 29       0\n",
       "Col 30    9170\n",
       "Col 31    9170\n",
       "Col 32       0\n",
       "Col 33       0\n",
       "Col 34     513\n",
       "Col 35     513\n",
       "Col 36     513\n",
       "Col 37    9170\n",
       "Col 38       0\n",
       "Col 39       0\n",
       "Col 40       0\n",
       "dtype: int64"
      ]
     },
     "execution_count": 67,
     "metadata": {},
     "output_type": "execute_result"
    }
   ],
   "source": [
    "df.isnull().sum()"
   ]
  },
  {
   "cell_type": "code",
   "execution_count": 68,
   "id": "41NrW8erfncj",
   "metadata": {
    "colab": {
     "base_uri": "https://localhost:8080/"
    },
    "id": "41NrW8erfncj",
    "outputId": "cffc168b-b892-458f-97fd-f73a224f49e8"
   },
   "outputs": [
    {
     "data": {
      "text/plain": [
       "Col 1       int64\n",
       "Col 2     float64\n",
       "Col 3     float64\n",
       "Col 4     float64\n",
       "Col 5     float64\n",
       "Col 6     float64\n",
       "Col 7     float64\n",
       "Col 8     float64\n",
       "Col 9       int64\n",
       "Col 10      int64\n",
       "Col 11    float64\n",
       "Col 12    float64\n",
       "Col 13    float64\n",
       "Col 14    float64\n",
       "Col 15     object\n",
       "Col 16     object\n",
       "Col 17     object\n",
       "Col 18     object\n",
       "Col 19     object\n",
       "Col 20     object\n",
       "Col 21     object\n",
       "Col 22     object\n",
       "Col 23     object\n",
       "Col 24     object\n",
       "Col 25     object\n",
       "Col 26     object\n",
       "Col 27     object\n",
       "Col 28     object\n",
       "Col 29     object\n",
       "Col 30     object\n",
       "Col 31     object\n",
       "Col 32     object\n",
       "Col 33     object\n",
       "Col 34     object\n",
       "Col 35     object\n",
       "Col 36     object\n",
       "Col 37     object\n",
       "Col 38     object\n",
       "Col 39     object\n",
       "Col 40     object\n",
       "dtype: object"
      ]
     },
     "execution_count": 68,
     "metadata": {},
     "output_type": "execute_result"
    }
   ],
   "source": [
    "df.dtypes"
   ]
  },
  {
   "cell_type": "code",
   "execution_count": 69,
   "id": "MVOCE49QhDrr",
   "metadata": {
    "id": "MVOCE49QhDrr"
   },
   "outputs": [],
   "source": [
    "df = df.drop(['Col 5', 'Col 6', 'Col 12', 'Col 28', 'Col 30', 'Col 31', 'Col 37'], axis = 1)"
   ]
  },
  {
   "cell_type": "code",
   "execution_count": 70,
   "id": "S1cVHxqmhY4_",
   "metadata": {
    "colab": {
     "base_uri": "https://localhost:8080/"
    },
    "id": "S1cVHxqmhY4_",
    "outputId": "294b3dad-9481-4a6e-988d-934945c2279c"
   },
   "outputs": [
    {
     "data": {
      "text/plain": [
       "(20000, 33)"
      ]
     },
     "execution_count": 70,
     "metadata": {},
     "output_type": "execute_result"
    }
   ],
   "source": [
    "df.shape"
   ]
  },
  {
   "cell_type": "code",
   "execution_count": 71,
   "id": "91n0PaT2hnqp",
   "metadata": {
    "id": "91n0PaT2hnqp"
   },
   "outputs": [],
   "source": [
    "df['Col 2'] = df['Col 2'].fillna(df['Col 2'].mode()[0])"
   ]
  },
  {
   "cell_type": "code",
   "execution_count": 72,
   "id": "vq7EfmYMjpO5",
   "metadata": {
    "colab": {
     "base_uri": "https://localhost:8080/"
    },
    "id": "vq7EfmYMjpO5",
    "outputId": "5eae3ed9-e4dd-44ce-b1a6-f5fd14b1417e"
   },
   "outputs": [
    {
     "data": {
      "text/plain": [
       "Col 1        0\n",
       "Col 2        0\n",
       "Col 3     1985\n",
       "Col 4     5157\n",
       "Col 7     1834\n",
       "Col 8      668\n",
       "Col 9        0\n",
       "Col 10       0\n",
       "Col 11    1834\n",
       "Col 13     286\n",
       "Col 14    5157\n",
       "Col 15     513\n",
       "Col 16       0\n",
       "Col 17       0\n",
       "Col 18       0\n",
       "Col 19       0\n",
       "Col 20       0\n",
       "Col 21       0\n",
       "Col 22       0\n",
       "Col 23       0\n",
       "Col 24     513\n",
       "Col 25     513\n",
       "Col 26       0\n",
       "Col 27       0\n",
       "Col 29       0\n",
       "Col 32       0\n",
       "Col 33       0\n",
       "Col 34     513\n",
       "Col 35     513\n",
       "Col 36     513\n",
       "Col 38       0\n",
       "Col 39       0\n",
       "Col 40       0\n",
       "dtype: int64"
      ]
     },
     "execution_count": 72,
     "metadata": {},
     "output_type": "execute_result"
    }
   ],
   "source": [
    "df.isnull().sum()"
   ]
  },
  {
   "cell_type": "code",
   "execution_count": 73,
   "id": "ylSxPxP0jsuN",
   "metadata": {
    "colab": {
     "base_uri": "https://localhost:8080/",
     "height": 279
    },
    "id": "ylSxPxP0jsuN",
    "outputId": "7fd69145-223d-41ed-8e53-955627961f76"
   },
   "outputs": [
    {
     "data": {
      "text/html": [
       "<div>\n",
       "<style scoped>\n",
       "    .dataframe tbody tr th:only-of-type {\n",
       "        vertical-align: middle;\n",
       "    }\n",
       "\n",
       "    .dataframe tbody tr th {\n",
       "        vertical-align: top;\n",
       "    }\n",
       "\n",
       "    .dataframe thead th {\n",
       "        text-align: right;\n",
       "    }\n",
       "</style>\n",
       "<table border=\"1\" class=\"dataframe\">\n",
       "  <thead>\n",
       "    <tr style=\"text-align: right;\">\n",
       "      <th></th>\n",
       "      <th>Col 1</th>\n",
       "      <th>Col 2</th>\n",
       "      <th>Col 3</th>\n",
       "      <th>Col 4</th>\n",
       "      <th>Col 7</th>\n",
       "      <th>Col 8</th>\n",
       "      <th>Col 9</th>\n",
       "      <th>Col 10</th>\n",
       "      <th>Col 11</th>\n",
       "      <th>Col 13</th>\n",
       "      <th>...</th>\n",
       "      <th>Col 27</th>\n",
       "      <th>Col 29</th>\n",
       "      <th>Col 32</th>\n",
       "      <th>Col 33</th>\n",
       "      <th>Col 34</th>\n",
       "      <th>Col 35</th>\n",
       "      <th>Col 36</th>\n",
       "      <th>Col 38</th>\n",
       "      <th>Col 39</th>\n",
       "      <th>Col 40</th>\n",
       "    </tr>\n",
       "  </thead>\n",
       "  <tbody>\n",
       "    <tr>\n",
       "      <th>0</th>\n",
       "      <td>1</td>\n",
       "      <td>5.0</td>\n",
       "      <td>110.0</td>\n",
       "      <td>NaN</td>\n",
       "      <td>1.0</td>\n",
       "      <td>0.0</td>\n",
       "      <td>14</td>\n",
       "      <td>7</td>\n",
       "      <td>1.0</td>\n",
       "      <td>306.0</td>\n",
       "      <td>...</td>\n",
       "      <td>00c5ffb7</td>\n",
       "      <td>8a0b74cc</td>\n",
       "      <td>b8170bba</td>\n",
       "      <td>9512c20b</td>\n",
       "      <td>c38e2f28</td>\n",
       "      <td>14f65a5d</td>\n",
       "      <td>25b1b089</td>\n",
       "      <td>7caf609c</td>\n",
       "      <td>30436bfc</td>\n",
       "      <td>ed10571d</td>\n",
       "    </tr>\n",
       "    <tr>\n",
       "      <th>1</th>\n",
       "      <td>0</td>\n",
       "      <td>32.0</td>\n",
       "      <td>3.0</td>\n",
       "      <td>5.0</td>\n",
       "      <td>0.0</td>\n",
       "      <td>0.0</td>\n",
       "      <td>61</td>\n",
       "      <td>5</td>\n",
       "      <td>0.0</td>\n",
       "      <td>3157.0</td>\n",
       "      <td>...</td>\n",
       "      <td>00c5ffb7</td>\n",
       "      <td>f3bbfe99</td>\n",
       "      <td>a1eb1511</td>\n",
       "      <td>9512c20b</td>\n",
       "      <td>febfd863</td>\n",
       "      <td>a3323ca1</td>\n",
       "      <td>c8e1ee56</td>\n",
       "      <td>75350c8a</td>\n",
       "      <td>991321ea</td>\n",
       "      <td>b757e957</td>\n",
       "    </tr>\n",
       "    <tr>\n",
       "      <th>2</th>\n",
       "      <td>0</td>\n",
       "      <td>1.0</td>\n",
       "      <td>233.0</td>\n",
       "      <td>1.0</td>\n",
       "      <td>0.0</td>\n",
       "      <td>0.0</td>\n",
       "      <td>99</td>\n",
       "      <td>7</td>\n",
       "      <td>0.0</td>\n",
       "      <td>3101.0</td>\n",
       "      <td>...</td>\n",
       "      <td>00c5ffb7</td>\n",
       "      <td>f70f0d0b</td>\n",
       "      <td>628f1b8d</td>\n",
       "      <td>9512c20b</td>\n",
       "      <td>c38e2f28</td>\n",
       "      <td>14f65a5d</td>\n",
       "      <td>25b1b089</td>\n",
       "      <td>34a9b905</td>\n",
       "      <td>ff654802</td>\n",
       "      <td>ed10571d</td>\n",
       "    </tr>\n",
       "    <tr>\n",
       "      <th>3</th>\n",
       "      <td>0</td>\n",
       "      <td>1.0</td>\n",
       "      <td>24.0</td>\n",
       "      <td>NaN</td>\n",
       "      <td>NaN</td>\n",
       "      <td>0.0</td>\n",
       "      <td>56</td>\n",
       "      <td>3</td>\n",
       "      <td>NaN</td>\n",
       "      <td>20456.0</td>\n",
       "      <td>...</td>\n",
       "      <td>d49eb1df</td>\n",
       "      <td>2b083b96</td>\n",
       "      <td>a1eb1511</td>\n",
       "      <td>9512c20b</td>\n",
       "      <td>NaN</td>\n",
       "      <td>NaN</td>\n",
       "      <td>NaN</td>\n",
       "      <td>b8a81fb0</td>\n",
       "      <td>30436bfc</td>\n",
       "      <td>b757e957</td>\n",
       "    </tr>\n",
       "    <tr>\n",
       "      <th>4</th>\n",
       "      <td>0</td>\n",
       "      <td>60.0</td>\n",
       "      <td>223.0</td>\n",
       "      <td>6.0</td>\n",
       "      <td>0.0</td>\n",
       "      <td>0.0</td>\n",
       "      <td>1</td>\n",
       "      <td>8</td>\n",
       "      <td>0.0</td>\n",
       "      <td>1582.0</td>\n",
       "      <td>...</td>\n",
       "      <td>a77a4a56</td>\n",
       "      <td>eb24f585</td>\n",
       "      <td>d9f758ff</td>\n",
       "      <td>9512c20b</td>\n",
       "      <td>c709ec07</td>\n",
       "      <td>2b07677e</td>\n",
       "      <td>a89a92a5</td>\n",
       "      <td>e619743b</td>\n",
       "      <td>cdc3217e</td>\n",
       "      <td>ed10571d</td>\n",
       "    </tr>\n",
       "  </tbody>\n",
       "</table>\n",
       "<p>5 rows × 33 columns</p>\n",
       "</div>"
      ],
      "text/plain": [
       "   Col 1  Col 2  Col 3  Col 4  Col 7  Col 8  Col 9  Col 10  Col 11   Col 13  \\\n",
       "0      1    5.0  110.0    NaN    1.0    0.0     14       7     1.0    306.0   \n",
       "1      0   32.0    3.0    5.0    0.0    0.0     61       5     0.0   3157.0   \n",
       "2      0    1.0  233.0    1.0    0.0    0.0     99       7     0.0   3101.0   \n",
       "3      0    1.0   24.0    NaN    NaN    0.0     56       3     NaN  20456.0   \n",
       "4      0   60.0  223.0    6.0    0.0    0.0      1       8     0.0   1582.0   \n",
       "\n",
       "   ...    Col 27    Col 29    Col 32    Col 33    Col 34    Col 35    Col 36  \\\n",
       "0  ...  00c5ffb7  8a0b74cc  b8170bba  9512c20b  c38e2f28  14f65a5d  25b1b089   \n",
       "1  ...  00c5ffb7  f3bbfe99  a1eb1511  9512c20b  febfd863  a3323ca1  c8e1ee56   \n",
       "2  ...  00c5ffb7  f70f0d0b  628f1b8d  9512c20b  c38e2f28  14f65a5d  25b1b089   \n",
       "3  ...  d49eb1df  2b083b96  a1eb1511  9512c20b       NaN       NaN       NaN   \n",
       "4  ...  a77a4a56  eb24f585  d9f758ff  9512c20b  c709ec07  2b07677e  a89a92a5   \n",
       "\n",
       "     Col 38    Col 39    Col 40  \n",
       "0  7caf609c  30436bfc  ed10571d  \n",
       "1  75350c8a  991321ea  b757e957  \n",
       "2  34a9b905  ff654802  ed10571d  \n",
       "3  b8a81fb0  30436bfc  b757e957  \n",
       "4  e619743b  cdc3217e  ed10571d  \n",
       "\n",
       "[5 rows x 33 columns]"
      ]
     },
     "execution_count": 73,
     "metadata": {},
     "output_type": "execute_result"
    }
   ],
   "source": [
    "df.head()"
   ]
  },
  {
   "cell_type": "code",
   "execution_count": 74,
   "id": "7BQdtXvYj5oR",
   "metadata": {
    "id": "7BQdtXvYj5oR"
   },
   "outputs": [],
   "source": [
    "# Keeping a threshold of 100\n",
    "# If number of unique values in a feature is less than 100 in Integer valued feature, we go for mode. Otherwise we go for median\n",
    "# All the categorical features having null values will be replaced by mode of the feature\n",
    "df['Col 3'] = df['Col 3'].fillna(df['Col 3'].median())\n",
    "df['Col 4'] = df['Col 4'].fillna(df['Col 4'].mode()[0])\n",
    "df['Col 7'] = df['Col 7'].fillna(df['Col 7'].mode()[0])\n",
    "df['Col 8'] = df['Col 8'].fillna(df['Col 8'].mode()[0])\n",
    "df['Col 11'] = df['Col 11'].fillna(df['Col 11'].mode()[0])\n",
    "df['Col 13'] = df['Col 13'].fillna(df['Col 13'].median())\n",
    "df['Col 14'] = df['Col 14'].fillna(df['Col 14'].mode()[0])"
   ]
  },
  {
   "cell_type": "code",
   "execution_count": 75,
   "id": "_Zys8B5KrW3o",
   "metadata": {
    "id": "_Zys8B5KrW3o"
   },
   "outputs": [],
   "source": [
    "# Encoding the categorical variables so that we can make it suitable for further processing and model building\n",
    "\n",
    "from sklearn import preprocessing\n",
    "label_encoder = preprocessing.LabelEncoder()\n",
    "\n",
    "df['Col 40']= label_encoder.fit_transform(df['Col 40'])\n",
    "df['Col 39']= label_encoder.fit_transform(df['Col 39'])\n",
    "df['Col 38']= label_encoder.fit_transform(df['Col 38'])\n",
    "df['Col 36']= label_encoder.fit_transform(df['Col 36'])\n",
    "df['Col 35']= label_encoder.fit_transform(df['Col 35'])\n",
    "df['Col 34']= label_encoder.fit_transform(df['Col 34'])\n",
    "df['Col 33']= label_encoder.fit_transform(df['Col 33'])\n",
    "df['Col 32']= label_encoder.fit_transform(df['Col 32'])\n",
    "df['Col 29']= label_encoder.fit_transform(df['Col 29'])\n",
    "df['Col 27']= label_encoder.fit_transform(df['Col 27'])\n",
    "df['Col 26']= label_encoder.fit_transform(df['Col 26'])\n",
    "df['Col 25']= label_encoder.fit_transform(df['Col 25'])\n",
    "df['Col 24']= label_encoder.fit_transform(df['Col 24'])\n",
    "df['Col 23']= label_encoder.fit_transform(df['Col 23'])\n",
    "df['Col 22']= label_encoder.fit_transform(df['Col 22'])\n",
    "df['Col 21']= label_encoder.fit_transform(df['Col 21'])\n",
    "df['Col 20']= label_encoder.fit_transform(df['Col 20'])\n",
    "df['Col 19']= label_encoder.fit_transform(df['Col 19'])\n",
    "df['Col 18']= label_encoder.fit_transform(df['Col 18'])\n",
    "df['Col 17']= label_encoder.fit_transform(df['Col 17'])\n",
    "df['Col 16']= label_encoder.fit_transform(df['Col 16'])\n",
    "df['Col 15']= label_encoder.fit_transform(df['Col 15'])"
   ]
  },
  {
   "cell_type": "code",
   "execution_count": 76,
   "id": "RhiPhLJ9qcBM",
   "metadata": {
    "colab": {
     "base_uri": "https://localhost:8080/"
    },
    "id": "RhiPhLJ9qcBM",
    "outputId": "60523c79-b517-442a-9297-1d0c525aa200"
   },
   "outputs": [
    {
     "data": {
      "text/plain": [
       "0"
      ]
     },
     "execution_count": 76,
     "metadata": {},
     "output_type": "execute_result"
    }
   ],
   "source": [
    "df['Col 15'] = df['Col 15'].fillna(df['Col 15'].mode()[0])\n",
    "df['Col 15'].isnull().sum()"
   ]
  },
  {
   "cell_type": "code",
   "execution_count": 77,
   "id": "EMrHQTiyrkO_",
   "metadata": {
    "id": "EMrHQTiyrkO_"
   },
   "outputs": [],
   "source": [
    "list_cols = [15, 16, 17, 18, 19, 20, 21, 22, 23, 24, 25, 26, 27, 29, 32, 33, 34, 35, 36, 38, 39, 40]\n",
    "\n",
    "for col_no in list_cols:\n",
    "  df[\"Col \" + str(col_no)] = df[\"Col \" + str(col_no)].fillna(df[\"Col \" + str(col_no)].mode()[0])"
   ]
  },
  {
   "cell_type": "code",
   "execution_count": 78,
   "id": "SSCesenoskEH",
   "metadata": {
    "colab": {
     "base_uri": "https://localhost:8080/"
    },
    "id": "SSCesenoskEH",
    "outputId": "410591ae-05e3-4c51-a82e-612371ab3054"
   },
   "outputs": [
    {
     "data": {
      "text/plain": [
       "Col 1     0\n",
       "Col 2     0\n",
       "Col 3     0\n",
       "Col 4     0\n",
       "Col 7     0\n",
       "Col 8     0\n",
       "Col 9     0\n",
       "Col 10    0\n",
       "Col 11    0\n",
       "Col 13    0\n",
       "Col 14    0\n",
       "Col 15    0\n",
       "Col 16    0\n",
       "Col 17    0\n",
       "Col 18    0\n",
       "Col 19    0\n",
       "Col 20    0\n",
       "Col 21    0\n",
       "Col 22    0\n",
       "Col 23    0\n",
       "Col 24    0\n",
       "Col 25    0\n",
       "Col 26    0\n",
       "Col 27    0\n",
       "Col 29    0\n",
       "Col 32    0\n",
       "Col 33    0\n",
       "Col 34    0\n",
       "Col 35    0\n",
       "Col 36    0\n",
       "Col 38    0\n",
       "Col 39    0\n",
       "Col 40    0\n",
       "dtype: int64"
      ]
     },
     "execution_count": 78,
     "metadata": {},
     "output_type": "execute_result"
    }
   ],
   "source": [
    "# Checking for null values in df\n",
    "df.isnull().sum()"
   ]
  },
  {
   "cell_type": "code",
   "execution_count": 79,
   "id": "Dxk-eR4_tWgC",
   "metadata": {
    "id": "Dxk-eR4_tWgC"
   },
   "outputs": [],
   "source": [
    "X = df.iloc[:,1:]\n",
    "y = df.iloc[:, :1]"
   ]
  },
  {
   "cell_type": "code",
   "execution_count": 80,
   "id": "1jjrfni5uo-b",
   "metadata": {
    "id": "1jjrfni5uo-b"
   },
   "outputs": [],
   "source": [
    "from sklearn.preprocessing import StandardScaler\n",
    "\n",
    "scaler = StandardScaler().fit(X.iloc[:,:11])\n",
    "X.iloc[:,:11] = scaler.transform(X.iloc[:,:11])"
   ]
  },
  {
   "cell_type": "code",
   "execution_count": 81,
   "id": "H38moeGYtZAR",
   "metadata": {
    "id": "H38moeGYtZAR"
   },
   "outputs": [],
   "source": [
    "from sklearn.model_selection import train_test_split\n",
    "X_train,X_test,y_train,y_test=train_test_split(X,y,test_size=0.3,random_state=42)"
   ]
  },
  {
   "cell_type": "code",
   "execution_count": 82,
   "id": "PSzVMM-DvMXb",
   "metadata": {
    "colab": {
     "base_uri": "https://localhost:8080/"
    },
    "id": "PSzVMM-DvMXb",
    "outputId": "b28a7a8e-b3de-4dbc-b887-3de891923446"
   },
   "outputs": [
    {
     "data": {
      "text/plain": [
       "LogisticRegression(random_state=0, solver='liblinear')"
      ]
     },
     "execution_count": 82,
     "metadata": {},
     "output_type": "execute_result"
    }
   ],
   "source": [
    "# train a logistic regression model on the training set\n",
    "from sklearn.linear_model import LogisticRegression\n",
    "\n",
    "\n",
    "# instantiate the model\n",
    "logreg = LogisticRegression(solver='liblinear', random_state=0)\n",
    "\n",
    "\n",
    "# fit the model\n",
    "logreg.fit(X_train, y_train)"
   ]
  },
  {
   "cell_type": "code",
   "execution_count": 83,
   "id": "1hD1LMJ7ystM",
   "metadata": {
    "colab": {
     "base_uri": "https://localhost:8080/"
    },
    "id": "1hD1LMJ7ystM",
    "outputId": "66d50f47-641f-457b-8d73-d00169388637"
   },
   "outputs": [
    {
     "data": {
      "text/plain": [
       "array([0, 0, 0, ..., 0, 0, 0], dtype=int64)"
      ]
     },
     "execution_count": 83,
     "metadata": {},
     "output_type": "execute_result"
    }
   ],
   "source": [
    "y_pred_test = logreg.predict(X_test)\n",
    "\n",
    "y_pred_test"
   ]
  },
  {
   "cell_type": "code",
   "execution_count": 84,
   "id": "y26q0ga8zOT_",
   "metadata": {
    "colab": {
     "base_uri": "https://localhost:8080/"
    },
    "id": "y26q0ga8zOT_",
    "outputId": "8fc03f2b-cffc-4a8c-ff78-25267194800c"
   },
   "outputs": [
    {
     "name": "stdout",
     "output_type": "stream",
     "text": [
      "Training-set accuracy score: 0.9757\n"
     ]
    }
   ],
   "source": [
    "from sklearn.metrics import accuracy_score\n",
    "print('Training-set accuracy score: {0:0.4f}'. format(accuracy_score(y_test, y_pred_test)))"
   ]
  },
  {
   "cell_type": "code",
   "execution_count": 85,
   "id": "PSP9BhOt1Mfz",
   "metadata": {
    "id": "PSP9BhOt1Mfz"
   },
   "outputs": [],
   "source": [
    "# from xgboost import XGBClassifier\n",
    "# model = XGBClassifier()\n",
    "# model.fit(X_train, y_train)\n",
    "# y_pred_test_xg = model.predict(X_test)\n"
   ]
  },
  {
   "cell_type": "code",
   "execution_count": 86,
   "id": "TuOst62z1grP",
   "metadata": {
    "colab": {
     "base_uri": "https://localhost:8080/"
    },
    "id": "TuOst62z1grP",
    "outputId": "795c25ae-f780-4691-ccc8-b38a4bcf84b6"
   },
   "outputs": [],
   "source": [
    "# print('Training-set accuracy score: {0:0.4f}'. format(accuracy_score(y_test, y_pred_test_xg)))"
   ]
  },
  {
   "cell_type": "code",
   "execution_count": 87,
   "id": "PDEqcP9f5Xjv",
   "metadata": {
    "id": "PDEqcP9f5Xjv"
   },
   "outputs": [],
   "source": [
    "# df1 = pd.read_csv(\"https://raw.githubusercontent.com/Somonnoy44/DSCI-project/main/criteo_ten_thousand_day_0.csv\")"
   ]
  },
  {
   "cell_type": "code",
   "execution_count": 88,
   "id": "w7vZ0EvA5bxe",
   "metadata": {
    "id": "w7vZ0EvA5bxe"
   },
   "outputs": [],
   "source": [
    "# df1.tail()"
   ]
  }
 ],
 "metadata": {
  "colab": {
   "provenance": []
  },
  "kernelspec": {
   "display_name": "Python 3 (ipykernel)",
   "language": "python",
   "name": "python3"
  },
  "language_info": {
   "codemirror_mode": {
    "name": "ipython",
    "version": 3
   },
   "file_extension": ".py",
   "mimetype": "text/x-python",
   "name": "python",
   "nbconvert_exporter": "python",
   "pygments_lexer": "ipython3",
   "version": "3.9.12"
  }
 },
 "nbformat": 4,
 "nbformat_minor": 5
}
