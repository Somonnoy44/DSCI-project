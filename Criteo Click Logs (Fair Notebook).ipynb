{
 "cells": [
  {
   "cell_type": "code",
   "execution_count": 2,
   "id": "b6bbcf90",
   "metadata": {},
   "outputs": [],
   "source": [
    "# import gzip\n",
    "# import csv\n",
    "# with gzip.open('day_0.gz', 'rt') as f:\n",
    "\n",
    "#     tsv_reader = csv.reader(f, delimiter=\"\\t\")\n",
    "\n",
    "#     number_of_lines = 10\n",
    "\n",
    "#     for i in range(number_of_lines):\n",
    "#         row = next(tsv_reader)\n",
    "#         print(i, row)"
   ]
  },
  {
   "cell_type": "code",
   "execution_count": 3,
   "id": "99f8472e",
   "metadata": {},
   "outputs": [],
   "source": [
    "# import gzip\n",
    "# import csv\n",
    "# with gzip.open('day_0.gz', 'rt') as f:\n",
    "\n",
    "#     tsv_reader = csv.reader(f, delimiter=\"\\t\")\n",
    "\n",
    "#     number_of_lines = 100\n",
    "\n",
    "#     for i in range(number_of_lines):\n",
    "#         row = next(tsv_reader)\n",
    "#         print(i, row)"
   ]
  },
  {
   "cell_type": "code",
   "execution_count": 4,
   "id": "572c4d93",
   "metadata": {},
   "outputs": [],
   "source": [
    "# import gzip\n",
    "# import csv\n",
    "# with gzip.open('day_0.gz', 'rt') as f:\n",
    "\n",
    "#     tsv_reader = csv.reader(f, delimiter=\"\\t\")\n",
    "\n",
    "#     number_of_lines = 100\n",
    "\n",
    "#     for i in range(number_of_lines):\n",
    "#         row = next(tsv_reader)\n",
    "#         for j in row:\n",
    "#             print(j)"
   ]
  },
  {
   "cell_type": "code",
   "execution_count": 6,
   "id": "1040119e",
   "metadata": {},
   "outputs": [],
   "source": [
    "import gzip\n",
    "import csv\n",
    "import pandas as pd\n",
    "list = []\n",
    "with gzip.open('day_0.gz', 'rt') as f:\n",
    "\n",
    "    tsv_reader = csv.reader(f, delimiter=\"\\t\")\n",
    "\n",
    "    number_of_lines = 1000\n",
    "\n",
    "    for i in range(number_of_lines):\n",
    "        row = next(tsv_reader)\n",
    "        list.append(row)\n",
    "        df=pd.DataFrame(list,columns=['Col 1','Col 2','Col 3','Col 4','Col 5','Col 6','Col 7','Col 8','Col 9','Col 10','Col 11','Col 12','Col 13','Col 14','Col 15','Col 16','Col 17','Col 18','Col 19','Col 20','Col 21','Col 22','Col 23','Col 24','Col 25','Col 26','Col 27','Col 28','Col 29','Col 30','Col 31','Col 32','Col 33','Col 34','Col 35','Col 36','Col 37','Col 38','Col 39','Col 40'])\n",
    "        "
   ]
  },
  {
   "cell_type": "code",
   "execution_count": null,
   "id": "b7585df8",
   "metadata": {},
   "outputs": [],
   "source": []
  }
 ],
 "metadata": {
  "kernelspec": {
   "display_name": "Python 3 (ipykernel)",
   "language": "python",
   "name": "python3"
  },
  "language_info": {
   "codemirror_mode": {
    "name": "ipython",
    "version": 3
   },
   "file_extension": ".py",
   "mimetype": "text/x-python",
   "name": "python",
   "nbconvert_exporter": "python",
   "pygments_lexer": "ipython3",
   "version": "3.9.12"
  }
 },
 "nbformat": 4,
 "nbformat_minor": 5
}
