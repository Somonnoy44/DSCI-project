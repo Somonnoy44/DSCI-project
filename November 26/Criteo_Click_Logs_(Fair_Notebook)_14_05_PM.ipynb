{
  "cells": [
    {
      "cell_type": "code",
      "execution_count": null,
      "id": "b6bbcf90",
      "metadata": {
        "id": "b6bbcf90"
      },
      "outputs": [],
      "source": [
        "# import gzip\n",
        "# import csv\n",
        "# with gzip.open('day_0.gz', 'rt') as f:\n",
        "\n",
        "#     tsv_reader = csv.reader(f, delimiter=\"\\t\")\n",
        "\n",
        "#     number_of_lines = 10\n",
        "\n",
        "#     for i in range(number_of_lines):\n",
        "#         row = next(tsv_reader)\n",
        "#         print(i, row)"
      ]
    },
    {
      "cell_type": "code",
      "execution_count": null,
      "id": "99f8472e",
      "metadata": {
        "id": "99f8472e"
      },
      "outputs": [],
      "source": [
        "# import gzip\n",
        "# import csv\n",
        "# with gzip.open('day_0.gz', 'rt') as f:\n",
        "\n",
        "#     tsv_reader = csv.reader(f, delimiter=\"\\t\")\n",
        "\n",
        "#     number_of_lines = 100\n",
        "\n",
        "#     for i in range(number_of_lines):\n",
        "#         row = next(tsv_reader)\n",
        "#         print(i, row)"
      ]
    },
    {
      "cell_type": "code",
      "execution_count": null,
      "id": "572c4d93",
      "metadata": {
        "id": "572c4d93"
      },
      "outputs": [],
      "source": [
        "# import gzip\n",
        "# import csv\n",
        "# with gzip.open('day_0.gz', 'rt') as f:\n",
        "\n",
        "#     tsv_reader = csv.reader(f, delimiter=\"\\t\")\n",
        "\n",
        "#     number_of_lines = 100\n",
        "\n",
        "#     for i in range(number_of_lines):\n",
        "#         row = next(tsv_reader)\n",
        "#         for j in row:\n",
        "#             print(j)"
      ]
    },
    {
      "cell_type": "code",
      "execution_count": null,
      "id": "1040119e",
      "metadata": {
        "id": "1040119e"
      },
      "outputs": [],
      "source": [
        "#import gzip\n",
        "#import csv\n",
        "#import pandas as pd\n",
        "#list = []\n",
        "#with gzip.open('day_0.gz', 'rt') as f:\n",
        "\n",
        "#    tsv_reader = csv.reader(f, delimiter=\"\\t\")\n",
        "#\n",
        "#    number_of_lines = 1000\n",
        "\n",
        "#    for i in range(number_of_lines):\n",
        "#        row = next(tsv_reader)\n",
        "#        list.append(row)\n",
        "#        df=pd.DataFrame(list,columns=['Col 1','Col 2','Col 3','Col 4','Col 5','Col 6','Col 7','Col 8','Col 9','Col 10','Col 11','Col 12','Col 13','Col 14','Col 15','Col 16','Col 17','Col 18','Col 19','Col 20','Col 21','Col 22','Col 23','Col 24','Col 25','Col 26','Col 27','Col 28','Col 29','Col 30','Col 31','Col 32','Col 33','Col 34','Col 35','Col 36','Col 37','Col 38','Col 39','Col 40'])\n",
        "        "
      ]
    },
    {
      "cell_type": "code",
      "execution_count": 1,
      "id": "b7585df8",
      "metadata": {
        "id": "b7585df8"
      },
      "outputs": [],
      "source": [
        "import pandas as pd\n",
        "df = pd.read_csv(\"https://raw.githubusercontent.com/Somonnoy44/DSCI-project/main/Datasets/Day%200/criteo_hundred_thousand_day_0.csv\")"
      ]
    },
    {
      "cell_type": "code",
      "source": [
        "df.describe()"
      ],
      "metadata": {
        "colab": {
          "base_uri": "https://localhost:8080/",
          "height": 364
        },
        "id": "zcSPzqlAf8m0",
        "outputId": "03c1145d-6155-42b9-cbce-62037ad27057"
      },
      "id": "zcSPzqlAf8m0",
      "execution_count": 2,
      "outputs": [
        {
          "output_type": "execute_result",
          "data": {
            "text/plain": [
              "               Col 1         Col 2         Col 3         Col 4          Col 5  \\\n",
              "count  100000.000000  78706.000000  90279.000000  74648.000000   52605.000000   \n",
              "mean        0.026840     38.308172    438.386014      6.728673     174.537496   \n",
              "std         0.161616    553.285692    756.864720      8.852498    1123.694171   \n",
              "min         0.000000      1.000000      1.000000      0.000000       0.000000   \n",
              "25%         0.000000      3.000000     61.500000      1.000000      10.000000   \n",
              "50%         0.000000      7.000000    195.000000      4.000000      36.000000   \n",
              "75%         0.000000     21.000000    507.000000      9.000000     111.000000   \n",
              "max         1.000000  65535.000000   7990.000000    254.000000  165467.000000   \n",
              "\n",
              "              Col 6         Col 7         Col 8          Col 9        Col 10  \\\n",
              "count  54602.000000  90261.000000  96678.000000  100000.000000  100000.00000   \n",
              "mean      20.305007      1.163681      0.123151     110.464630       9.44718   \n",
              "std       71.749457      6.011681      2.285524     378.220298      12.30074   \n",
              "min        1.000000      0.000000      0.000000      -1.000000       0.00000   \n",
              "25%        2.000000      0.000000      0.000000       1.000000       1.00000   \n",
              "50%        5.000000      0.000000      0.000000       5.000000       5.00000   \n",
              "75%       15.000000      0.000000      0.000000      50.000000      14.00000   \n",
              "max     2767.000000    433.000000    472.000000   19457.000000    1345.00000   \n",
              "\n",
              "             Col 11        Col 12        Col 13        Col 14  \n",
              "count  90261.000000  54602.000000  9.860900e+04  74648.000000  \n",
              "mean       0.198868      3.898154  2.247106e+04      9.167573  \n",
              "std        0.476693      6.700380  7.502818e+04     18.008165  \n",
              "min        0.000000      1.000000  0.000000e+00      0.000000  \n",
              "25%        0.000000      1.000000  6.260000e+02      2.000000  \n",
              "50%        0.000000      2.000000  3.826000e+03      5.000000  \n",
              "75%        0.000000      4.000000  1.375600e+04     11.000000  \n",
              "max        6.000000    143.000000  1.943261e+06   1500.000000  "
            ],
            "text/html": [
              "\n",
              "  <div id=\"df-291855b3-9e1c-4d54-beb6-47f71928c082\">\n",
              "    <div class=\"colab-df-container\">\n",
              "      <div>\n",
              "<style scoped>\n",
              "    .dataframe tbody tr th:only-of-type {\n",
              "        vertical-align: middle;\n",
              "    }\n",
              "\n",
              "    .dataframe tbody tr th {\n",
              "        vertical-align: top;\n",
              "    }\n",
              "\n",
              "    .dataframe thead th {\n",
              "        text-align: right;\n",
              "    }\n",
              "</style>\n",
              "<table border=\"1\" class=\"dataframe\">\n",
              "  <thead>\n",
              "    <tr style=\"text-align: right;\">\n",
              "      <th></th>\n",
              "      <th>Col 1</th>\n",
              "      <th>Col 2</th>\n",
              "      <th>Col 3</th>\n",
              "      <th>Col 4</th>\n",
              "      <th>Col 5</th>\n",
              "      <th>Col 6</th>\n",
              "      <th>Col 7</th>\n",
              "      <th>Col 8</th>\n",
              "      <th>Col 9</th>\n",
              "      <th>Col 10</th>\n",
              "      <th>Col 11</th>\n",
              "      <th>Col 12</th>\n",
              "      <th>Col 13</th>\n",
              "      <th>Col 14</th>\n",
              "    </tr>\n",
              "  </thead>\n",
              "  <tbody>\n",
              "    <tr>\n",
              "      <th>count</th>\n",
              "      <td>100000.000000</td>\n",
              "      <td>78706.000000</td>\n",
              "      <td>90279.000000</td>\n",
              "      <td>74648.000000</td>\n",
              "      <td>52605.000000</td>\n",
              "      <td>54602.000000</td>\n",
              "      <td>90261.000000</td>\n",
              "      <td>96678.000000</td>\n",
              "      <td>100000.000000</td>\n",
              "      <td>100000.00000</td>\n",
              "      <td>90261.000000</td>\n",
              "      <td>54602.000000</td>\n",
              "      <td>9.860900e+04</td>\n",
              "      <td>74648.000000</td>\n",
              "    </tr>\n",
              "    <tr>\n",
              "      <th>mean</th>\n",
              "      <td>0.026840</td>\n",
              "      <td>38.308172</td>\n",
              "      <td>438.386014</td>\n",
              "      <td>6.728673</td>\n",
              "      <td>174.537496</td>\n",
              "      <td>20.305007</td>\n",
              "      <td>1.163681</td>\n",
              "      <td>0.123151</td>\n",
              "      <td>110.464630</td>\n",
              "      <td>9.44718</td>\n",
              "      <td>0.198868</td>\n",
              "      <td>3.898154</td>\n",
              "      <td>2.247106e+04</td>\n",
              "      <td>9.167573</td>\n",
              "    </tr>\n",
              "    <tr>\n",
              "      <th>std</th>\n",
              "      <td>0.161616</td>\n",
              "      <td>553.285692</td>\n",
              "      <td>756.864720</td>\n",
              "      <td>8.852498</td>\n",
              "      <td>1123.694171</td>\n",
              "      <td>71.749457</td>\n",
              "      <td>6.011681</td>\n",
              "      <td>2.285524</td>\n",
              "      <td>378.220298</td>\n",
              "      <td>12.30074</td>\n",
              "      <td>0.476693</td>\n",
              "      <td>6.700380</td>\n",
              "      <td>7.502818e+04</td>\n",
              "      <td>18.008165</td>\n",
              "    </tr>\n",
              "    <tr>\n",
              "      <th>min</th>\n",
              "      <td>0.000000</td>\n",
              "      <td>1.000000</td>\n",
              "      <td>1.000000</td>\n",
              "      <td>0.000000</td>\n",
              "      <td>0.000000</td>\n",
              "      <td>1.000000</td>\n",
              "      <td>0.000000</td>\n",
              "      <td>0.000000</td>\n",
              "      <td>-1.000000</td>\n",
              "      <td>0.00000</td>\n",
              "      <td>0.000000</td>\n",
              "      <td>1.000000</td>\n",
              "      <td>0.000000e+00</td>\n",
              "      <td>0.000000</td>\n",
              "    </tr>\n",
              "    <tr>\n",
              "      <th>25%</th>\n",
              "      <td>0.000000</td>\n",
              "      <td>3.000000</td>\n",
              "      <td>61.500000</td>\n",
              "      <td>1.000000</td>\n",
              "      <td>10.000000</td>\n",
              "      <td>2.000000</td>\n",
              "      <td>0.000000</td>\n",
              "      <td>0.000000</td>\n",
              "      <td>1.000000</td>\n",
              "      <td>1.00000</td>\n",
              "      <td>0.000000</td>\n",
              "      <td>1.000000</td>\n",
              "      <td>6.260000e+02</td>\n",
              "      <td>2.000000</td>\n",
              "    </tr>\n",
              "    <tr>\n",
              "      <th>50%</th>\n",
              "      <td>0.000000</td>\n",
              "      <td>7.000000</td>\n",
              "      <td>195.000000</td>\n",
              "      <td>4.000000</td>\n",
              "      <td>36.000000</td>\n",
              "      <td>5.000000</td>\n",
              "      <td>0.000000</td>\n",
              "      <td>0.000000</td>\n",
              "      <td>5.000000</td>\n",
              "      <td>5.00000</td>\n",
              "      <td>0.000000</td>\n",
              "      <td>2.000000</td>\n",
              "      <td>3.826000e+03</td>\n",
              "      <td>5.000000</td>\n",
              "    </tr>\n",
              "    <tr>\n",
              "      <th>75%</th>\n",
              "      <td>0.000000</td>\n",
              "      <td>21.000000</td>\n",
              "      <td>507.000000</td>\n",
              "      <td>9.000000</td>\n",
              "      <td>111.000000</td>\n",
              "      <td>15.000000</td>\n",
              "      <td>0.000000</td>\n",
              "      <td>0.000000</td>\n",
              "      <td>50.000000</td>\n",
              "      <td>14.00000</td>\n",
              "      <td>0.000000</td>\n",
              "      <td>4.000000</td>\n",
              "      <td>1.375600e+04</td>\n",
              "      <td>11.000000</td>\n",
              "    </tr>\n",
              "    <tr>\n",
              "      <th>max</th>\n",
              "      <td>1.000000</td>\n",
              "      <td>65535.000000</td>\n",
              "      <td>7990.000000</td>\n",
              "      <td>254.000000</td>\n",
              "      <td>165467.000000</td>\n",
              "      <td>2767.000000</td>\n",
              "      <td>433.000000</td>\n",
              "      <td>472.000000</td>\n",
              "      <td>19457.000000</td>\n",
              "      <td>1345.00000</td>\n",
              "      <td>6.000000</td>\n",
              "      <td>143.000000</td>\n",
              "      <td>1.943261e+06</td>\n",
              "      <td>1500.000000</td>\n",
              "    </tr>\n",
              "  </tbody>\n",
              "</table>\n",
              "</div>\n",
              "      <button class=\"colab-df-convert\" onclick=\"convertToInteractive('df-291855b3-9e1c-4d54-beb6-47f71928c082')\"\n",
              "              title=\"Convert this dataframe to an interactive table.\"\n",
              "              style=\"display:none;\">\n",
              "        \n",
              "  <svg xmlns=\"http://www.w3.org/2000/svg\" height=\"24px\"viewBox=\"0 0 24 24\"\n",
              "       width=\"24px\">\n",
              "    <path d=\"M0 0h24v24H0V0z\" fill=\"none\"/>\n",
              "    <path d=\"M18.56 5.44l.94 2.06.94-2.06 2.06-.94-2.06-.94-.94-2.06-.94 2.06-2.06.94zm-11 1L8.5 8.5l.94-2.06 2.06-.94-2.06-.94L8.5 2.5l-.94 2.06-2.06.94zm10 10l.94 2.06.94-2.06 2.06-.94-2.06-.94-.94-2.06-.94 2.06-2.06.94z\"/><path d=\"M17.41 7.96l-1.37-1.37c-.4-.4-.92-.59-1.43-.59-.52 0-1.04.2-1.43.59L10.3 9.45l-7.72 7.72c-.78.78-.78 2.05 0 2.83L4 21.41c.39.39.9.59 1.41.59.51 0 1.02-.2 1.41-.59l7.78-7.78 2.81-2.81c.8-.78.8-2.07 0-2.86zM5.41 20L4 18.59l7.72-7.72 1.47 1.35L5.41 20z\"/>\n",
              "  </svg>\n",
              "      </button>\n",
              "      \n",
              "  <style>\n",
              "    .colab-df-container {\n",
              "      display:flex;\n",
              "      flex-wrap:wrap;\n",
              "      gap: 12px;\n",
              "    }\n",
              "\n",
              "    .colab-df-convert {\n",
              "      background-color: #E8F0FE;\n",
              "      border: none;\n",
              "      border-radius: 50%;\n",
              "      cursor: pointer;\n",
              "      display: none;\n",
              "      fill: #1967D2;\n",
              "      height: 32px;\n",
              "      padding: 0 0 0 0;\n",
              "      width: 32px;\n",
              "    }\n",
              "\n",
              "    .colab-df-convert:hover {\n",
              "      background-color: #E2EBFA;\n",
              "      box-shadow: 0px 1px 2px rgba(60, 64, 67, 0.3), 0px 1px 3px 1px rgba(60, 64, 67, 0.15);\n",
              "      fill: #174EA6;\n",
              "    }\n",
              "\n",
              "    [theme=dark] .colab-df-convert {\n",
              "      background-color: #3B4455;\n",
              "      fill: #D2E3FC;\n",
              "    }\n",
              "\n",
              "    [theme=dark] .colab-df-convert:hover {\n",
              "      background-color: #434B5C;\n",
              "      box-shadow: 0px 1px 3px 1px rgba(0, 0, 0, 0.15);\n",
              "      filter: drop-shadow(0px 1px 2px rgba(0, 0, 0, 0.3));\n",
              "      fill: #FFFFFF;\n",
              "    }\n",
              "  </style>\n",
              "\n",
              "      <script>\n",
              "        const buttonEl =\n",
              "          document.querySelector('#df-291855b3-9e1c-4d54-beb6-47f71928c082 button.colab-df-convert');\n",
              "        buttonEl.style.display =\n",
              "          google.colab.kernel.accessAllowed ? 'block' : 'none';\n",
              "\n",
              "        async function convertToInteractive(key) {\n",
              "          const element = document.querySelector('#df-291855b3-9e1c-4d54-beb6-47f71928c082');\n",
              "          const dataTable =\n",
              "            await google.colab.kernel.invokeFunction('convertToInteractive',\n",
              "                                                     [key], {});\n",
              "          if (!dataTable) return;\n",
              "\n",
              "          const docLinkHtml = 'Like what you see? Visit the ' +\n",
              "            '<a target=\"_blank\" href=https://colab.research.google.com/notebooks/data_table.ipynb>data table notebook</a>'\n",
              "            + ' to learn more about interactive tables.';\n",
              "          element.innerHTML = '';\n",
              "          dataTable['output_type'] = 'display_data';\n",
              "          await google.colab.output.renderOutput(dataTable, element);\n",
              "          const docLink = document.createElement('div');\n",
              "          docLink.innerHTML = docLinkHtml;\n",
              "          element.appendChild(docLink);\n",
              "        }\n",
              "      </script>\n",
              "    </div>\n",
              "  </div>\n",
              "  "
            ]
          },
          "metadata": {},
          "execution_count": 2
        }
      ]
    },
    {
      "cell_type": "code",
      "source": [
        "df.isnull().sum()"
      ],
      "metadata": {
        "colab": {
          "base_uri": "https://localhost:8080/"
        },
        "id": "okObtgLvf-OI",
        "outputId": "6fa8f640-a9e5-465c-f4b2-3ad1dcdc5699"
      },
      "id": "okObtgLvf-OI",
      "execution_count": 3,
      "outputs": [
        {
          "output_type": "execute_result",
          "data": {
            "text/plain": [
              "Col 1         0\n",
              "Col 2     21294\n",
              "Col 3      9721\n",
              "Col 4     25352\n",
              "Col 5     47395\n",
              "Col 6     45398\n",
              "Col 7      9739\n",
              "Col 8      3322\n",
              "Col 9         0\n",
              "Col 10        0\n",
              "Col 11     9739\n",
              "Col 12    45398\n",
              "Col 13     1391\n",
              "Col 14    25352\n",
              "Col 15     2917\n",
              "Col 16        0\n",
              "Col 17        0\n",
              "Col 18        0\n",
              "Col 19        0\n",
              "Col 20        0\n",
              "Col 21        0\n",
              "Col 22        0\n",
              "Col 23        0\n",
              "Col 24     2917\n",
              "Col 25     2917\n",
              "Col 26        0\n",
              "Col 27        0\n",
              "Col 28    42113\n",
              "Col 29        0\n",
              "Col 30    42113\n",
              "Col 31    42113\n",
              "Col 32        0\n",
              "Col 33        0\n",
              "Col 34     2917\n",
              "Col 35     2917\n",
              "Col 36     2917\n",
              "Col 37    42113\n",
              "Col 38        0\n",
              "Col 39        0\n",
              "Col 40        0\n",
              "dtype: int64"
            ]
          },
          "metadata": {},
          "execution_count": 3
        }
      ]
    },
    {
      "cell_type": "code",
      "source": [
        "df.info()"
      ],
      "metadata": {
        "colab": {
          "base_uri": "https://localhost:8080/"
        },
        "id": "br2cJYS2gAAo",
        "outputId": "08cb793e-e228-4987-e4ab-63e078913e83"
      },
      "id": "br2cJYS2gAAo",
      "execution_count": 4,
      "outputs": [
        {
          "output_type": "stream",
          "name": "stdout",
          "text": [
            "<class 'pandas.core.frame.DataFrame'>\n",
            "RangeIndex: 100000 entries, 0 to 99999\n",
            "Data columns (total 40 columns):\n",
            " #   Column  Non-Null Count   Dtype  \n",
            "---  ------  --------------   -----  \n",
            " 0   Col 1   100000 non-null  int64  \n",
            " 1   Col 2   78706 non-null   float64\n",
            " 2   Col 3   90279 non-null   float64\n",
            " 3   Col 4   74648 non-null   float64\n",
            " 4   Col 5   52605 non-null   float64\n",
            " 5   Col 6   54602 non-null   float64\n",
            " 6   Col 7   90261 non-null   float64\n",
            " 7   Col 8   96678 non-null   float64\n",
            " 8   Col 9   100000 non-null  int64  \n",
            " 9   Col 10  100000 non-null  int64  \n",
            " 10  Col 11  90261 non-null   float64\n",
            " 11  Col 12  54602 non-null   float64\n",
            " 12  Col 13  98609 non-null   float64\n",
            " 13  Col 14  74648 non-null   float64\n",
            " 14  Col 15  97083 non-null   object \n",
            " 15  Col 16  100000 non-null  object \n",
            " 16  Col 17  100000 non-null  object \n",
            " 17  Col 18  100000 non-null  object \n",
            " 18  Col 19  100000 non-null  object \n",
            " 19  Col 20  100000 non-null  object \n",
            " 20  Col 21  100000 non-null  object \n",
            " 21  Col 22  100000 non-null  object \n",
            " 22  Col 23  100000 non-null  object \n",
            " 23  Col 24  97083 non-null   object \n",
            " 24  Col 25  97083 non-null   object \n",
            " 25  Col 26  100000 non-null  object \n",
            " 26  Col 27  100000 non-null  object \n",
            " 27  Col 28  57887 non-null   object \n",
            " 28  Col 29  100000 non-null  object \n",
            " 29  Col 30  57887 non-null   object \n",
            " 30  Col 31  57887 non-null   object \n",
            " 31  Col 32  100000 non-null  object \n",
            " 32  Col 33  100000 non-null  object \n",
            " 33  Col 34  97083 non-null   object \n",
            " 34  Col 35  97083 non-null   object \n",
            " 35  Col 36  97083 non-null   object \n",
            " 36  Col 37  57887 non-null   object \n",
            " 37  Col 38  100000 non-null  object \n",
            " 38  Col 39  100000 non-null  object \n",
            " 39  Col 40  100000 non-null  object \n",
            "dtypes: float64(11), int64(3), object(26)\n",
            "memory usage: 30.5+ MB\n"
          ]
        }
      ]
    },
    {
      "cell_type": "code",
      "source": [
        "df = df.drop(['Col 5', 'Col 6', 'Col 12', 'Col 28', 'Col 30', 'Col 31', 'Col 37'], axis = 1)"
      ],
      "metadata": {
        "id": "9K2L0DhXgNzZ"
      },
      "id": "9K2L0DhXgNzZ",
      "execution_count": 5,
      "outputs": []
    },
    {
      "cell_type": "code",
      "source": [
        "df.isnull().sum()"
      ],
      "metadata": {
        "colab": {
          "base_uri": "https://localhost:8080/"
        },
        "id": "JW8RF97ehprh",
        "outputId": "34502d60-e0fb-4842-c196-bbf88feaf9db"
      },
      "id": "JW8RF97ehprh",
      "execution_count": 6,
      "outputs": [
        {
          "output_type": "execute_result",
          "data": {
            "text/plain": [
              "Col 1         0\n",
              "Col 2     21294\n",
              "Col 3      9721\n",
              "Col 4     25352\n",
              "Col 7      9739\n",
              "Col 8      3322\n",
              "Col 9         0\n",
              "Col 10        0\n",
              "Col 11     9739\n",
              "Col 13     1391\n",
              "Col 14    25352\n",
              "Col 15     2917\n",
              "Col 16        0\n",
              "Col 17        0\n",
              "Col 18        0\n",
              "Col 19        0\n",
              "Col 20        0\n",
              "Col 21        0\n",
              "Col 22        0\n",
              "Col 23        0\n",
              "Col 24     2917\n",
              "Col 25     2917\n",
              "Col 26        0\n",
              "Col 27        0\n",
              "Col 29        0\n",
              "Col 32        0\n",
              "Col 33        0\n",
              "Col 34     2917\n",
              "Col 35     2917\n",
              "Col 36     2917\n",
              "Col 38        0\n",
              "Col 39        0\n",
              "Col 40        0\n",
              "dtype: int64"
            ]
          },
          "metadata": {},
          "execution_count": 6
        }
      ]
    },
    {
      "cell_type": "code",
      "source": [
        "df.head()"
      ],
      "metadata": {
        "colab": {
          "base_uri": "https://localhost:8080/",
          "height": 279
        },
        "id": "zZkvyU8khywH",
        "outputId": "552009a6-4bf3-4d38-dc5a-8081a4905432"
      },
      "id": "zZkvyU8khywH",
      "execution_count": 7,
      "outputs": [
        {
          "output_type": "execute_result",
          "data": {
            "text/plain": [
              "   Col 1  Col 2  Col 3  Col 4  Col 7  Col 8  Col 9  Col 10  Col 11   Col 13  \\\n",
              "0      1    5.0  110.0    NaN    1.0    0.0     14       7     1.0    306.0   \n",
              "1      0   32.0    3.0    5.0    0.0    0.0     61       5     0.0   3157.0   \n",
              "2      0    NaN  233.0    1.0    0.0    0.0     99       7     0.0   3101.0   \n",
              "3      0    NaN   24.0    NaN    NaN    0.0     56       3     NaN  20456.0   \n",
              "4      0   60.0  223.0    6.0    0.0    0.0      1       8     0.0   1582.0   \n",
              "\n",
              "   ...    Col 27    Col 29    Col 32    Col 33    Col 34    Col 35    Col 36  \\\n",
              "0  ...  00c5ffb7  8a0b74cc  b8170bba  9512c20b  c38e2f28  14f65a5d  25b1b089   \n",
              "1  ...  00c5ffb7  f3bbfe99  a1eb1511  9512c20b  febfd863  a3323ca1  c8e1ee56   \n",
              "2  ...  00c5ffb7  f70f0d0b  628f1b8d  9512c20b  c38e2f28  14f65a5d  25b1b089   \n",
              "3  ...  d49eb1df  2b083b96  a1eb1511  9512c20b       NaN       NaN       NaN   \n",
              "4  ...  a77a4a56  eb24f585  d9f758ff  9512c20b  c709ec07  2b07677e  a89a92a5   \n",
              "\n",
              "     Col 38    Col 39    Col 40  \n",
              "0  7caf609c  30436bfc  ed10571d  \n",
              "1  75350c8a  991321ea  b757e957  \n",
              "2  34a9b905  ff654802  ed10571d  \n",
              "3  b8a81fb0  30436bfc  b757e957  \n",
              "4  e619743b  cdc3217e  ed10571d  \n",
              "\n",
              "[5 rows x 33 columns]"
            ],
            "text/html": [
              "\n",
              "  <div id=\"df-219e4de9-b6aa-47f5-bc70-1f2ce0f42181\">\n",
              "    <div class=\"colab-df-container\">\n",
              "      <div>\n",
              "<style scoped>\n",
              "    .dataframe tbody tr th:only-of-type {\n",
              "        vertical-align: middle;\n",
              "    }\n",
              "\n",
              "    .dataframe tbody tr th {\n",
              "        vertical-align: top;\n",
              "    }\n",
              "\n",
              "    .dataframe thead th {\n",
              "        text-align: right;\n",
              "    }\n",
              "</style>\n",
              "<table border=\"1\" class=\"dataframe\">\n",
              "  <thead>\n",
              "    <tr style=\"text-align: right;\">\n",
              "      <th></th>\n",
              "      <th>Col 1</th>\n",
              "      <th>Col 2</th>\n",
              "      <th>Col 3</th>\n",
              "      <th>Col 4</th>\n",
              "      <th>Col 7</th>\n",
              "      <th>Col 8</th>\n",
              "      <th>Col 9</th>\n",
              "      <th>Col 10</th>\n",
              "      <th>Col 11</th>\n",
              "      <th>Col 13</th>\n",
              "      <th>...</th>\n",
              "      <th>Col 27</th>\n",
              "      <th>Col 29</th>\n",
              "      <th>Col 32</th>\n",
              "      <th>Col 33</th>\n",
              "      <th>Col 34</th>\n",
              "      <th>Col 35</th>\n",
              "      <th>Col 36</th>\n",
              "      <th>Col 38</th>\n",
              "      <th>Col 39</th>\n",
              "      <th>Col 40</th>\n",
              "    </tr>\n",
              "  </thead>\n",
              "  <tbody>\n",
              "    <tr>\n",
              "      <th>0</th>\n",
              "      <td>1</td>\n",
              "      <td>5.0</td>\n",
              "      <td>110.0</td>\n",
              "      <td>NaN</td>\n",
              "      <td>1.0</td>\n",
              "      <td>0.0</td>\n",
              "      <td>14</td>\n",
              "      <td>7</td>\n",
              "      <td>1.0</td>\n",
              "      <td>306.0</td>\n",
              "      <td>...</td>\n",
              "      <td>00c5ffb7</td>\n",
              "      <td>8a0b74cc</td>\n",
              "      <td>b8170bba</td>\n",
              "      <td>9512c20b</td>\n",
              "      <td>c38e2f28</td>\n",
              "      <td>14f65a5d</td>\n",
              "      <td>25b1b089</td>\n",
              "      <td>7caf609c</td>\n",
              "      <td>30436bfc</td>\n",
              "      <td>ed10571d</td>\n",
              "    </tr>\n",
              "    <tr>\n",
              "      <th>1</th>\n",
              "      <td>0</td>\n",
              "      <td>32.0</td>\n",
              "      <td>3.0</td>\n",
              "      <td>5.0</td>\n",
              "      <td>0.0</td>\n",
              "      <td>0.0</td>\n",
              "      <td>61</td>\n",
              "      <td>5</td>\n",
              "      <td>0.0</td>\n",
              "      <td>3157.0</td>\n",
              "      <td>...</td>\n",
              "      <td>00c5ffb7</td>\n",
              "      <td>f3bbfe99</td>\n",
              "      <td>a1eb1511</td>\n",
              "      <td>9512c20b</td>\n",
              "      <td>febfd863</td>\n",
              "      <td>a3323ca1</td>\n",
              "      <td>c8e1ee56</td>\n",
              "      <td>75350c8a</td>\n",
              "      <td>991321ea</td>\n",
              "      <td>b757e957</td>\n",
              "    </tr>\n",
              "    <tr>\n",
              "      <th>2</th>\n",
              "      <td>0</td>\n",
              "      <td>NaN</td>\n",
              "      <td>233.0</td>\n",
              "      <td>1.0</td>\n",
              "      <td>0.0</td>\n",
              "      <td>0.0</td>\n",
              "      <td>99</td>\n",
              "      <td>7</td>\n",
              "      <td>0.0</td>\n",
              "      <td>3101.0</td>\n",
              "      <td>...</td>\n",
              "      <td>00c5ffb7</td>\n",
              "      <td>f70f0d0b</td>\n",
              "      <td>628f1b8d</td>\n",
              "      <td>9512c20b</td>\n",
              "      <td>c38e2f28</td>\n",
              "      <td>14f65a5d</td>\n",
              "      <td>25b1b089</td>\n",
              "      <td>34a9b905</td>\n",
              "      <td>ff654802</td>\n",
              "      <td>ed10571d</td>\n",
              "    </tr>\n",
              "    <tr>\n",
              "      <th>3</th>\n",
              "      <td>0</td>\n",
              "      <td>NaN</td>\n",
              "      <td>24.0</td>\n",
              "      <td>NaN</td>\n",
              "      <td>NaN</td>\n",
              "      <td>0.0</td>\n",
              "      <td>56</td>\n",
              "      <td>3</td>\n",
              "      <td>NaN</td>\n",
              "      <td>20456.0</td>\n",
              "      <td>...</td>\n",
              "      <td>d49eb1df</td>\n",
              "      <td>2b083b96</td>\n",
              "      <td>a1eb1511</td>\n",
              "      <td>9512c20b</td>\n",
              "      <td>NaN</td>\n",
              "      <td>NaN</td>\n",
              "      <td>NaN</td>\n",
              "      <td>b8a81fb0</td>\n",
              "      <td>30436bfc</td>\n",
              "      <td>b757e957</td>\n",
              "    </tr>\n",
              "    <tr>\n",
              "      <th>4</th>\n",
              "      <td>0</td>\n",
              "      <td>60.0</td>\n",
              "      <td>223.0</td>\n",
              "      <td>6.0</td>\n",
              "      <td>0.0</td>\n",
              "      <td>0.0</td>\n",
              "      <td>1</td>\n",
              "      <td>8</td>\n",
              "      <td>0.0</td>\n",
              "      <td>1582.0</td>\n",
              "      <td>...</td>\n",
              "      <td>a77a4a56</td>\n",
              "      <td>eb24f585</td>\n",
              "      <td>d9f758ff</td>\n",
              "      <td>9512c20b</td>\n",
              "      <td>c709ec07</td>\n",
              "      <td>2b07677e</td>\n",
              "      <td>a89a92a5</td>\n",
              "      <td>e619743b</td>\n",
              "      <td>cdc3217e</td>\n",
              "      <td>ed10571d</td>\n",
              "    </tr>\n",
              "  </tbody>\n",
              "</table>\n",
              "<p>5 rows × 33 columns</p>\n",
              "</div>\n",
              "      <button class=\"colab-df-convert\" onclick=\"convertToInteractive('df-219e4de9-b6aa-47f5-bc70-1f2ce0f42181')\"\n",
              "              title=\"Convert this dataframe to an interactive table.\"\n",
              "              style=\"display:none;\">\n",
              "        \n",
              "  <svg xmlns=\"http://www.w3.org/2000/svg\" height=\"24px\"viewBox=\"0 0 24 24\"\n",
              "       width=\"24px\">\n",
              "    <path d=\"M0 0h24v24H0V0z\" fill=\"none\"/>\n",
              "    <path d=\"M18.56 5.44l.94 2.06.94-2.06 2.06-.94-2.06-.94-.94-2.06-.94 2.06-2.06.94zm-11 1L8.5 8.5l.94-2.06 2.06-.94-2.06-.94L8.5 2.5l-.94 2.06-2.06.94zm10 10l.94 2.06.94-2.06 2.06-.94-2.06-.94-.94-2.06-.94 2.06-2.06.94z\"/><path d=\"M17.41 7.96l-1.37-1.37c-.4-.4-.92-.59-1.43-.59-.52 0-1.04.2-1.43.59L10.3 9.45l-7.72 7.72c-.78.78-.78 2.05 0 2.83L4 21.41c.39.39.9.59 1.41.59.51 0 1.02-.2 1.41-.59l7.78-7.78 2.81-2.81c.8-.78.8-2.07 0-2.86zM5.41 20L4 18.59l7.72-7.72 1.47 1.35L5.41 20z\"/>\n",
              "  </svg>\n",
              "      </button>\n",
              "      \n",
              "  <style>\n",
              "    .colab-df-container {\n",
              "      display:flex;\n",
              "      flex-wrap:wrap;\n",
              "      gap: 12px;\n",
              "    }\n",
              "\n",
              "    .colab-df-convert {\n",
              "      background-color: #E8F0FE;\n",
              "      border: none;\n",
              "      border-radius: 50%;\n",
              "      cursor: pointer;\n",
              "      display: none;\n",
              "      fill: #1967D2;\n",
              "      height: 32px;\n",
              "      padding: 0 0 0 0;\n",
              "      width: 32px;\n",
              "    }\n",
              "\n",
              "    .colab-df-convert:hover {\n",
              "      background-color: #E2EBFA;\n",
              "      box-shadow: 0px 1px 2px rgba(60, 64, 67, 0.3), 0px 1px 3px 1px rgba(60, 64, 67, 0.15);\n",
              "      fill: #174EA6;\n",
              "    }\n",
              "\n",
              "    [theme=dark] .colab-df-convert {\n",
              "      background-color: #3B4455;\n",
              "      fill: #D2E3FC;\n",
              "    }\n",
              "\n",
              "    [theme=dark] .colab-df-convert:hover {\n",
              "      background-color: #434B5C;\n",
              "      box-shadow: 0px 1px 3px 1px rgba(0, 0, 0, 0.15);\n",
              "      filter: drop-shadow(0px 1px 2px rgba(0, 0, 0, 0.3));\n",
              "      fill: #FFFFFF;\n",
              "    }\n",
              "  </style>\n",
              "\n",
              "      <script>\n",
              "        const buttonEl =\n",
              "          document.querySelector('#df-219e4de9-b6aa-47f5-bc70-1f2ce0f42181 button.colab-df-convert');\n",
              "        buttonEl.style.display =\n",
              "          google.colab.kernel.accessAllowed ? 'block' : 'none';\n",
              "\n",
              "        async function convertToInteractive(key) {\n",
              "          const element = document.querySelector('#df-219e4de9-b6aa-47f5-bc70-1f2ce0f42181');\n",
              "          const dataTable =\n",
              "            await google.colab.kernel.invokeFunction('convertToInteractive',\n",
              "                                                     [key], {});\n",
              "          if (!dataTable) return;\n",
              "\n",
              "          const docLinkHtml = 'Like what you see? Visit the ' +\n",
              "            '<a target=\"_blank\" href=https://colab.research.google.com/notebooks/data_table.ipynb>data table notebook</a>'\n",
              "            + ' to learn more about interactive tables.';\n",
              "          element.innerHTML = '';\n",
              "          dataTable['output_type'] = 'display_data';\n",
              "          await google.colab.output.renderOutput(dataTable, element);\n",
              "          const docLink = document.createElement('div');\n",
              "          docLink.innerHTML = docLinkHtml;\n",
              "          element.appendChild(docLink);\n",
              "        }\n",
              "      </script>\n",
              "    </div>\n",
              "  </div>\n",
              "  "
            ]
          },
          "metadata": {},
          "execution_count": 7
        }
      ]
    },
    {
      "cell_type": "code",
      "source": [
        "df['Col 2'].mode()"
      ],
      "metadata": {
        "colab": {
          "base_uri": "https://localhost:8080/"
        },
        "id": "tF7AU49fiFt2",
        "outputId": "1fafc064-9f3f-4768-fbd2-4a70dae71f66"
      },
      "id": "tF7AU49fiFt2",
      "execution_count": 8,
      "outputs": [
        {
          "output_type": "execute_result",
          "data": {
            "text/plain": [
              "0    1.0\n",
              "dtype: float64"
            ]
          },
          "metadata": {},
          "execution_count": 8
        }
      ]
    },
    {
      "cell_type": "code",
      "source": [
        "df['Col 2'].fillna(value = df['Col 2'].mode()[0],inplace=True)"
      ],
      "metadata": {
        "id": "qpc3vjBIiRe1"
      },
      "id": "qpc3vjBIiRe1",
      "execution_count": 9,
      "outputs": []
    },
    {
      "cell_type": "code",
      "source": [
        "df.head()"
      ],
      "metadata": {
        "colab": {
          "base_uri": "https://localhost:8080/",
          "height": 279
        },
        "id": "0UGeWRpEj9J3",
        "outputId": "52105f3e-0a58-4b96-ef00-6c4a43d1956e"
      },
      "id": "0UGeWRpEj9J3",
      "execution_count": 10,
      "outputs": [
        {
          "output_type": "execute_result",
          "data": {
            "text/plain": [
              "   Col 1  Col 2  Col 3  Col 4  Col 7  Col 8  Col 9  Col 10  Col 11   Col 13  \\\n",
              "0      1    5.0  110.0    NaN    1.0    0.0     14       7     1.0    306.0   \n",
              "1      0   32.0    3.0    5.0    0.0    0.0     61       5     0.0   3157.0   \n",
              "2      0    1.0  233.0    1.0    0.0    0.0     99       7     0.0   3101.0   \n",
              "3      0    1.0   24.0    NaN    NaN    0.0     56       3     NaN  20456.0   \n",
              "4      0   60.0  223.0    6.0    0.0    0.0      1       8     0.0   1582.0   \n",
              "\n",
              "   ...    Col 27    Col 29    Col 32    Col 33    Col 34    Col 35    Col 36  \\\n",
              "0  ...  00c5ffb7  8a0b74cc  b8170bba  9512c20b  c38e2f28  14f65a5d  25b1b089   \n",
              "1  ...  00c5ffb7  f3bbfe99  a1eb1511  9512c20b  febfd863  a3323ca1  c8e1ee56   \n",
              "2  ...  00c5ffb7  f70f0d0b  628f1b8d  9512c20b  c38e2f28  14f65a5d  25b1b089   \n",
              "3  ...  d49eb1df  2b083b96  a1eb1511  9512c20b       NaN       NaN       NaN   \n",
              "4  ...  a77a4a56  eb24f585  d9f758ff  9512c20b  c709ec07  2b07677e  a89a92a5   \n",
              "\n",
              "     Col 38    Col 39    Col 40  \n",
              "0  7caf609c  30436bfc  ed10571d  \n",
              "1  75350c8a  991321ea  b757e957  \n",
              "2  34a9b905  ff654802  ed10571d  \n",
              "3  b8a81fb0  30436bfc  b757e957  \n",
              "4  e619743b  cdc3217e  ed10571d  \n",
              "\n",
              "[5 rows x 33 columns]"
            ],
            "text/html": [
              "\n",
              "  <div id=\"df-0a753641-bbce-4b81-85ee-e44b52ecb703\">\n",
              "    <div class=\"colab-df-container\">\n",
              "      <div>\n",
              "<style scoped>\n",
              "    .dataframe tbody tr th:only-of-type {\n",
              "        vertical-align: middle;\n",
              "    }\n",
              "\n",
              "    .dataframe tbody tr th {\n",
              "        vertical-align: top;\n",
              "    }\n",
              "\n",
              "    .dataframe thead th {\n",
              "        text-align: right;\n",
              "    }\n",
              "</style>\n",
              "<table border=\"1\" class=\"dataframe\">\n",
              "  <thead>\n",
              "    <tr style=\"text-align: right;\">\n",
              "      <th></th>\n",
              "      <th>Col 1</th>\n",
              "      <th>Col 2</th>\n",
              "      <th>Col 3</th>\n",
              "      <th>Col 4</th>\n",
              "      <th>Col 7</th>\n",
              "      <th>Col 8</th>\n",
              "      <th>Col 9</th>\n",
              "      <th>Col 10</th>\n",
              "      <th>Col 11</th>\n",
              "      <th>Col 13</th>\n",
              "      <th>...</th>\n",
              "      <th>Col 27</th>\n",
              "      <th>Col 29</th>\n",
              "      <th>Col 32</th>\n",
              "      <th>Col 33</th>\n",
              "      <th>Col 34</th>\n",
              "      <th>Col 35</th>\n",
              "      <th>Col 36</th>\n",
              "      <th>Col 38</th>\n",
              "      <th>Col 39</th>\n",
              "      <th>Col 40</th>\n",
              "    </tr>\n",
              "  </thead>\n",
              "  <tbody>\n",
              "    <tr>\n",
              "      <th>0</th>\n",
              "      <td>1</td>\n",
              "      <td>5.0</td>\n",
              "      <td>110.0</td>\n",
              "      <td>NaN</td>\n",
              "      <td>1.0</td>\n",
              "      <td>0.0</td>\n",
              "      <td>14</td>\n",
              "      <td>7</td>\n",
              "      <td>1.0</td>\n",
              "      <td>306.0</td>\n",
              "      <td>...</td>\n",
              "      <td>00c5ffb7</td>\n",
              "      <td>8a0b74cc</td>\n",
              "      <td>b8170bba</td>\n",
              "      <td>9512c20b</td>\n",
              "      <td>c38e2f28</td>\n",
              "      <td>14f65a5d</td>\n",
              "      <td>25b1b089</td>\n",
              "      <td>7caf609c</td>\n",
              "      <td>30436bfc</td>\n",
              "      <td>ed10571d</td>\n",
              "    </tr>\n",
              "    <tr>\n",
              "      <th>1</th>\n",
              "      <td>0</td>\n",
              "      <td>32.0</td>\n",
              "      <td>3.0</td>\n",
              "      <td>5.0</td>\n",
              "      <td>0.0</td>\n",
              "      <td>0.0</td>\n",
              "      <td>61</td>\n",
              "      <td>5</td>\n",
              "      <td>0.0</td>\n",
              "      <td>3157.0</td>\n",
              "      <td>...</td>\n",
              "      <td>00c5ffb7</td>\n",
              "      <td>f3bbfe99</td>\n",
              "      <td>a1eb1511</td>\n",
              "      <td>9512c20b</td>\n",
              "      <td>febfd863</td>\n",
              "      <td>a3323ca1</td>\n",
              "      <td>c8e1ee56</td>\n",
              "      <td>75350c8a</td>\n",
              "      <td>991321ea</td>\n",
              "      <td>b757e957</td>\n",
              "    </tr>\n",
              "    <tr>\n",
              "      <th>2</th>\n",
              "      <td>0</td>\n",
              "      <td>1.0</td>\n",
              "      <td>233.0</td>\n",
              "      <td>1.0</td>\n",
              "      <td>0.0</td>\n",
              "      <td>0.0</td>\n",
              "      <td>99</td>\n",
              "      <td>7</td>\n",
              "      <td>0.0</td>\n",
              "      <td>3101.0</td>\n",
              "      <td>...</td>\n",
              "      <td>00c5ffb7</td>\n",
              "      <td>f70f0d0b</td>\n",
              "      <td>628f1b8d</td>\n",
              "      <td>9512c20b</td>\n",
              "      <td>c38e2f28</td>\n",
              "      <td>14f65a5d</td>\n",
              "      <td>25b1b089</td>\n",
              "      <td>34a9b905</td>\n",
              "      <td>ff654802</td>\n",
              "      <td>ed10571d</td>\n",
              "    </tr>\n",
              "    <tr>\n",
              "      <th>3</th>\n",
              "      <td>0</td>\n",
              "      <td>1.0</td>\n",
              "      <td>24.0</td>\n",
              "      <td>NaN</td>\n",
              "      <td>NaN</td>\n",
              "      <td>0.0</td>\n",
              "      <td>56</td>\n",
              "      <td>3</td>\n",
              "      <td>NaN</td>\n",
              "      <td>20456.0</td>\n",
              "      <td>...</td>\n",
              "      <td>d49eb1df</td>\n",
              "      <td>2b083b96</td>\n",
              "      <td>a1eb1511</td>\n",
              "      <td>9512c20b</td>\n",
              "      <td>NaN</td>\n",
              "      <td>NaN</td>\n",
              "      <td>NaN</td>\n",
              "      <td>b8a81fb0</td>\n",
              "      <td>30436bfc</td>\n",
              "      <td>b757e957</td>\n",
              "    </tr>\n",
              "    <tr>\n",
              "      <th>4</th>\n",
              "      <td>0</td>\n",
              "      <td>60.0</td>\n",
              "      <td>223.0</td>\n",
              "      <td>6.0</td>\n",
              "      <td>0.0</td>\n",
              "      <td>0.0</td>\n",
              "      <td>1</td>\n",
              "      <td>8</td>\n",
              "      <td>0.0</td>\n",
              "      <td>1582.0</td>\n",
              "      <td>...</td>\n",
              "      <td>a77a4a56</td>\n",
              "      <td>eb24f585</td>\n",
              "      <td>d9f758ff</td>\n",
              "      <td>9512c20b</td>\n",
              "      <td>c709ec07</td>\n",
              "      <td>2b07677e</td>\n",
              "      <td>a89a92a5</td>\n",
              "      <td>e619743b</td>\n",
              "      <td>cdc3217e</td>\n",
              "      <td>ed10571d</td>\n",
              "    </tr>\n",
              "  </tbody>\n",
              "</table>\n",
              "<p>5 rows × 33 columns</p>\n",
              "</div>\n",
              "      <button class=\"colab-df-convert\" onclick=\"convertToInteractive('df-0a753641-bbce-4b81-85ee-e44b52ecb703')\"\n",
              "              title=\"Convert this dataframe to an interactive table.\"\n",
              "              style=\"display:none;\">\n",
              "        \n",
              "  <svg xmlns=\"http://www.w3.org/2000/svg\" height=\"24px\"viewBox=\"0 0 24 24\"\n",
              "       width=\"24px\">\n",
              "    <path d=\"M0 0h24v24H0V0z\" fill=\"none\"/>\n",
              "    <path d=\"M18.56 5.44l.94 2.06.94-2.06 2.06-.94-2.06-.94-.94-2.06-.94 2.06-2.06.94zm-11 1L8.5 8.5l.94-2.06 2.06-.94-2.06-.94L8.5 2.5l-.94 2.06-2.06.94zm10 10l.94 2.06.94-2.06 2.06-.94-2.06-.94-.94-2.06-.94 2.06-2.06.94z\"/><path d=\"M17.41 7.96l-1.37-1.37c-.4-.4-.92-.59-1.43-.59-.52 0-1.04.2-1.43.59L10.3 9.45l-7.72 7.72c-.78.78-.78 2.05 0 2.83L4 21.41c.39.39.9.59 1.41.59.51 0 1.02-.2 1.41-.59l7.78-7.78 2.81-2.81c.8-.78.8-2.07 0-2.86zM5.41 20L4 18.59l7.72-7.72 1.47 1.35L5.41 20z\"/>\n",
              "  </svg>\n",
              "      </button>\n",
              "      \n",
              "  <style>\n",
              "    .colab-df-container {\n",
              "      display:flex;\n",
              "      flex-wrap:wrap;\n",
              "      gap: 12px;\n",
              "    }\n",
              "\n",
              "    .colab-df-convert {\n",
              "      background-color: #E8F0FE;\n",
              "      border: none;\n",
              "      border-radius: 50%;\n",
              "      cursor: pointer;\n",
              "      display: none;\n",
              "      fill: #1967D2;\n",
              "      height: 32px;\n",
              "      padding: 0 0 0 0;\n",
              "      width: 32px;\n",
              "    }\n",
              "\n",
              "    .colab-df-convert:hover {\n",
              "      background-color: #E2EBFA;\n",
              "      box-shadow: 0px 1px 2px rgba(60, 64, 67, 0.3), 0px 1px 3px 1px rgba(60, 64, 67, 0.15);\n",
              "      fill: #174EA6;\n",
              "    }\n",
              "\n",
              "    [theme=dark] .colab-df-convert {\n",
              "      background-color: #3B4455;\n",
              "      fill: #D2E3FC;\n",
              "    }\n",
              "\n",
              "    [theme=dark] .colab-df-convert:hover {\n",
              "      background-color: #434B5C;\n",
              "      box-shadow: 0px 1px 3px 1px rgba(0, 0, 0, 0.15);\n",
              "      filter: drop-shadow(0px 1px 2px rgba(0, 0, 0, 0.3));\n",
              "      fill: #FFFFFF;\n",
              "    }\n",
              "  </style>\n",
              "\n",
              "      <script>\n",
              "        const buttonEl =\n",
              "          document.querySelector('#df-0a753641-bbce-4b81-85ee-e44b52ecb703 button.colab-df-convert');\n",
              "        buttonEl.style.display =\n",
              "          google.colab.kernel.accessAllowed ? 'block' : 'none';\n",
              "\n",
              "        async function convertToInteractive(key) {\n",
              "          const element = document.querySelector('#df-0a753641-bbce-4b81-85ee-e44b52ecb703');\n",
              "          const dataTable =\n",
              "            await google.colab.kernel.invokeFunction('convertToInteractive',\n",
              "                                                     [key], {});\n",
              "          if (!dataTable) return;\n",
              "\n",
              "          const docLinkHtml = 'Like what you see? Visit the ' +\n",
              "            '<a target=\"_blank\" href=https://colab.research.google.com/notebooks/data_table.ipynb>data table notebook</a>'\n",
              "            + ' to learn more about interactive tables.';\n",
              "          element.innerHTML = '';\n",
              "          dataTable['output_type'] = 'display_data';\n",
              "          await google.colab.output.renderOutput(dataTable, element);\n",
              "          const docLink = document.createElement('div');\n",
              "          docLink.innerHTML = docLinkHtml;\n",
              "          element.appendChild(docLink);\n",
              "        }\n",
              "      </script>\n",
              "    </div>\n",
              "  </div>\n",
              "  "
            ]
          },
          "metadata": {},
          "execution_count": 10
        }
      ]
    },
    {
      "cell_type": "code",
      "source": [
        "df.isnull().sum()"
      ],
      "metadata": {
        "colab": {
          "base_uri": "https://localhost:8080/"
        },
        "id": "PD8p6xS0kDOW",
        "outputId": "37430418-bed3-4d29-f7ad-3093f2d763de"
      },
      "id": "PD8p6xS0kDOW",
      "execution_count": 11,
      "outputs": [
        {
          "output_type": "execute_result",
          "data": {
            "text/plain": [
              "Col 1         0\n",
              "Col 2         0\n",
              "Col 3      9721\n",
              "Col 4     25352\n",
              "Col 7      9739\n",
              "Col 8      3322\n",
              "Col 9         0\n",
              "Col 10        0\n",
              "Col 11     9739\n",
              "Col 13     1391\n",
              "Col 14    25352\n",
              "Col 15     2917\n",
              "Col 16        0\n",
              "Col 17        0\n",
              "Col 18        0\n",
              "Col 19        0\n",
              "Col 20        0\n",
              "Col 21        0\n",
              "Col 22        0\n",
              "Col 23        0\n",
              "Col 24     2917\n",
              "Col 25     2917\n",
              "Col 26        0\n",
              "Col 27        0\n",
              "Col 29        0\n",
              "Col 32        0\n",
              "Col 33        0\n",
              "Col 34     2917\n",
              "Col 35     2917\n",
              "Col 36     2917\n",
              "Col 38        0\n",
              "Col 39        0\n",
              "Col 40        0\n",
              "dtype: int64"
            ]
          },
          "metadata": {},
          "execution_count": 11
        }
      ]
    },
    {
      "cell_type": "code",
      "source": [
        "df['Col 3'].median()"
      ],
      "metadata": {
        "colab": {
          "base_uri": "https://localhost:8080/"
        },
        "id": "WW2GlcOVkL_p",
        "outputId": "e23b4aef-12a1-44ae-9c2a-73710868b74b"
      },
      "id": "WW2GlcOVkL_p",
      "execution_count": 12,
      "outputs": [
        {
          "output_type": "execute_result",
          "data": {
            "text/plain": [
              "195.0"
            ]
          },
          "metadata": {},
          "execution_count": 12
        }
      ]
    },
    {
      "cell_type": "code",
      "source": [
        "df['Col 3'].fillna(value = df['Col 3'].median(),inplace=True)"
      ],
      "metadata": {
        "id": "h2JYbaW-kqx8"
      },
      "id": "h2JYbaW-kqx8",
      "execution_count": 13,
      "outputs": []
    },
    {
      "cell_type": "code",
      "source": [
        "df.isnull().sum()"
      ],
      "metadata": {
        "colab": {
          "base_uri": "https://localhost:8080/"
        },
        "id": "LB27guWok0CL",
        "outputId": "566ae510-5dcf-4180-a783-4f755d434acb"
      },
      "id": "LB27guWok0CL",
      "execution_count": 14,
      "outputs": [
        {
          "output_type": "execute_result",
          "data": {
            "text/plain": [
              "Col 1         0\n",
              "Col 2         0\n",
              "Col 3         0\n",
              "Col 4     25352\n",
              "Col 7      9739\n",
              "Col 8      3322\n",
              "Col 9         0\n",
              "Col 10        0\n",
              "Col 11     9739\n",
              "Col 13     1391\n",
              "Col 14    25352\n",
              "Col 15     2917\n",
              "Col 16        0\n",
              "Col 17        0\n",
              "Col 18        0\n",
              "Col 19        0\n",
              "Col 20        0\n",
              "Col 21        0\n",
              "Col 22        0\n",
              "Col 23        0\n",
              "Col 24     2917\n",
              "Col 25     2917\n",
              "Col 26        0\n",
              "Col 27        0\n",
              "Col 29        0\n",
              "Col 32        0\n",
              "Col 33        0\n",
              "Col 34     2917\n",
              "Col 35     2917\n",
              "Col 36     2917\n",
              "Col 38        0\n",
              "Col 39        0\n",
              "Col 40        0\n",
              "dtype: int64"
            ]
          },
          "metadata": {},
          "execution_count": 14
        }
      ]
    },
    {
      "cell_type": "code",
      "source": [
        "df['Col 4'].fillna(value = df['Col 4'].median(),inplace=True)"
      ],
      "metadata": {
        "id": "lpo8wYofk12D"
      },
      "id": "lpo8wYofk12D",
      "execution_count": 15,
      "outputs": []
    },
    {
      "cell_type": "code",
      "source": [
        "df['Col 7'] = df['Col 7'].fillna(df['Col 7'].mode()[0])"
      ],
      "metadata": {
        "id": "FYsOdNC3lXRX"
      },
      "id": "FYsOdNC3lXRX",
      "execution_count": 16,
      "outputs": []
    },
    {
      "cell_type": "code",
      "source": [
        "df['Col 8'] = df['Col 8'].fillna(df['Col 8'].mode()[0])\n"
      ],
      "metadata": {
        "id": "iPpLxRUrnPPI"
      },
      "id": "iPpLxRUrnPPI",
      "execution_count": 17,
      "outputs": []
    },
    {
      "cell_type": "code",
      "source": [
        "df['Col 11'] = df['Col 11'].fillna(df['Col 11'].mode()[0])"
      ],
      "metadata": {
        "id": "VhQgAgEQnok4"
      },
      "id": "VhQgAgEQnok4",
      "execution_count": 18,
      "outputs": []
    },
    {
      "cell_type": "code",
      "source": [
        "df['Col 13'].fillna(value = df['Col 13'].median(),inplace=True)"
      ],
      "metadata": {
        "id": "OPL6d0axn1Hu"
      },
      "id": "OPL6d0axn1Hu",
      "execution_count": 19,
      "outputs": []
    },
    {
      "cell_type": "code",
      "source": [
        "df['Col 14'] = df['Col 14'].fillna(df['Col 14'].mode()[0])"
      ],
      "metadata": {
        "id": "G9PhDBMEownS"
      },
      "id": "G9PhDBMEownS",
      "execution_count": 20,
      "outputs": []
    },
    {
      "cell_type": "code",
      "source": [
        "df['Col 15'].nunique()"
      ],
      "metadata": {
        "colab": {
          "base_uri": "https://localhost:8080/"
        },
        "id": "oJ5u8Rlpo9GE",
        "outputId": "5709a0f4-72cc-49c1-e734-ee97ea877d55"
      },
      "id": "oJ5u8Rlpo9GE",
      "execution_count": 21,
      "outputs": [
        {
          "output_type": "execute_result",
          "data": {
            "text/plain": [
              "23796"
            ]
          },
          "metadata": {},
          "execution_count": 21
        }
      ]
    },
    {
      "cell_type": "code",
      "source": [
        "df.columns"
      ],
      "metadata": {
        "colab": {
          "base_uri": "https://localhost:8080/"
        },
        "id": "vvuyZ154pFhX",
        "outputId": "c3da67fc-7a50-461d-ac31-8a39b1bfeead"
      },
      "id": "vvuyZ154pFhX",
      "execution_count": 22,
      "outputs": [
        {
          "output_type": "execute_result",
          "data": {
            "text/plain": [
              "Index(['Col 1', 'Col 2', 'Col 3', 'Col 4', 'Col 7', 'Col 8', 'Col 9', 'Col 10',\n",
              "       'Col 11', 'Col 13', 'Col 14', 'Col 15', 'Col 16', 'Col 17', 'Col 18',\n",
              "       'Col 19', 'Col 20', 'Col 21', 'Col 22', 'Col 23', 'Col 24', 'Col 25',\n",
              "       'Col 26', 'Col 27', 'Col 29', 'Col 32', 'Col 33', 'Col 34', 'Col 35',\n",
              "       'Col 36', 'Col 38', 'Col 39', 'Col 40'],\n",
              "      dtype='object')"
            ]
          },
          "metadata": {},
          "execution_count": 22
        }
      ]
    },
    {
      "cell_type": "code",
      "source": [
        "from sklearn import preprocessing\n",
        "label_encoder = preprocessing.LabelEncoder()\n",
        "\n",
        "df['Col 40']= label_encoder.fit_transform(df['Col 40'])\n",
        "df['Col 39']= label_encoder.fit_transform(df['Col 39'])\n",
        "df['Col 38']= label_encoder.fit_transform(df['Col 38'])\n",
        "df['Col 36']= label_encoder.fit_transform(df['Col 36'])\n",
        "df['Col 35']= label_encoder.fit_transform(df['Col 35'])\n",
        "df['Col 34']= label_encoder.fit_transform(df['Col 34'])\n",
        "df['Col 33']= label_encoder.fit_transform(df['Col 33'])\n",
        "df['Col 32']= label_encoder.fit_transform(df['Col 32'])\n",
        "df['Col 29']= label_encoder.fit_transform(df['Col 29'])\n",
        "df['Col 27']= label_encoder.fit_transform(df['Col 27'])\n",
        "df['Col 26']= label_encoder.fit_transform(df['Col 26'])\n",
        "df['Col 25']= label_encoder.fit_transform(df['Col 25'])\n",
        "df['Col 24']= label_encoder.fit_transform(df['Col 24'])\n",
        "df['Col 23']= label_encoder.fit_transform(df['Col 23'])\n",
        "df['Col 22']= label_encoder.fit_transform(df['Col 22'])\n",
        "df['Col 21']= label_encoder.fit_transform(df['Col 21'])\n",
        "df['Col 20']= label_encoder.fit_transform(df['Col 20'])\n",
        "df['Col 19']= label_encoder.fit_transform(df['Col 19'])\n",
        "df['Col 18']= label_encoder.fit_transform(df['Col 18'])\n",
        "df['Col 17']= label_encoder.fit_transform(df['Col 17'])\n",
        "df['Col 16']= label_encoder.fit_transform(df['Col 16'])\n",
        "df['Col 15']= label_encoder.fit_transform(df['Col 15'])"
      ],
      "metadata": {
        "id": "zkszpMfLqbyi"
      },
      "id": "zkszpMfLqbyi",
      "execution_count": 23,
      "outputs": []
    },
    {
      "cell_type": "code",
      "source": [
        "list_cols = [15, 16, 17, 18, 19, 20, 21, 22, 23, 24, 25, 26, 27, 29, 32, 33, 34, 35, 36, 38, 39, 40]\n",
        "\n",
        "for col_no in list_cols:\n",
        "  df[\"Col \" + str(col_no)] = df[\"Col \" + str(col_no)].fillna(df[\"Col \" + str(col_no)].mode()[0])"
      ],
      "metadata": {
        "id": "guUU6RGrtV6W"
      },
      "id": "guUU6RGrtV6W",
      "execution_count": 24,
      "outputs": []
    },
    {
      "cell_type": "code",
      "source": [
        "df.isnull().sum()"
      ],
      "metadata": {
        "id": "Oz3JA1RdtZsF",
        "outputId": "7f8a21ed-cc23-4bbd-927d-6161d8aef685",
        "colab": {
          "base_uri": "https://localhost:8080/"
        }
      },
      "id": "Oz3JA1RdtZsF",
      "execution_count": 25,
      "outputs": [
        {
          "output_type": "execute_result",
          "data": {
            "text/plain": [
              "Col 1     0\n",
              "Col 2     0\n",
              "Col 3     0\n",
              "Col 4     0\n",
              "Col 7     0\n",
              "Col 8     0\n",
              "Col 9     0\n",
              "Col 10    0\n",
              "Col 11    0\n",
              "Col 13    0\n",
              "Col 14    0\n",
              "Col 15    0\n",
              "Col 16    0\n",
              "Col 17    0\n",
              "Col 18    0\n",
              "Col 19    0\n",
              "Col 20    0\n",
              "Col 21    0\n",
              "Col 22    0\n",
              "Col 23    0\n",
              "Col 24    0\n",
              "Col 25    0\n",
              "Col 26    0\n",
              "Col 27    0\n",
              "Col 29    0\n",
              "Col 32    0\n",
              "Col 33    0\n",
              "Col 34    0\n",
              "Col 35    0\n",
              "Col 36    0\n",
              "Col 38    0\n",
              "Col 39    0\n",
              "Col 40    0\n",
              "dtype: int64"
            ]
          },
          "metadata": {},
          "execution_count": 25
        }
      ]
    },
    {
      "cell_type": "code",
      "source": [
        "df.info()"
      ],
      "metadata": {
        "id": "ep9_h0LFtcxa",
        "outputId": "efe1da2a-76d6-4c1b-ee4f-5c1892b6cc55",
        "colab": {
          "base_uri": "https://localhost:8080/"
        }
      },
      "id": "ep9_h0LFtcxa",
      "execution_count": 26,
      "outputs": [
        {
          "output_type": "stream",
          "name": "stdout",
          "text": [
            "<class 'pandas.core.frame.DataFrame'>\n",
            "RangeIndex: 100000 entries, 0 to 99999\n",
            "Data columns (total 33 columns):\n",
            " #   Column  Non-Null Count   Dtype  \n",
            "---  ------  --------------   -----  \n",
            " 0   Col 1   100000 non-null  int64  \n",
            " 1   Col 2   100000 non-null  float64\n",
            " 2   Col 3   100000 non-null  float64\n",
            " 3   Col 4   100000 non-null  float64\n",
            " 4   Col 7   100000 non-null  float64\n",
            " 5   Col 8   100000 non-null  float64\n",
            " 6   Col 9   100000 non-null  int64  \n",
            " 7   Col 10  100000 non-null  int64  \n",
            " 8   Col 11  100000 non-null  float64\n",
            " 9   Col 13  100000 non-null  float64\n",
            " 10  Col 14  100000 non-null  float64\n",
            " 11  Col 15  100000 non-null  int64  \n",
            " 12  Col 16  100000 non-null  int64  \n",
            " 13  Col 17  100000 non-null  int64  \n",
            " 14  Col 18  100000 non-null  int64  \n",
            " 15  Col 19  100000 non-null  int64  \n",
            " 16  Col 20  100000 non-null  int64  \n",
            " 17  Col 21  100000 non-null  int64  \n",
            " 18  Col 22  100000 non-null  int64  \n",
            " 19  Col 23  100000 non-null  int64  \n",
            " 20  Col 24  100000 non-null  int64  \n",
            " 21  Col 25  100000 non-null  int64  \n",
            " 22  Col 26  100000 non-null  int64  \n",
            " 23  Col 27  100000 non-null  int64  \n",
            " 24  Col 29  100000 non-null  int64  \n",
            " 25  Col 32  100000 non-null  int64  \n",
            " 26  Col 33  100000 non-null  int64  \n",
            " 27  Col 34  100000 non-null  int64  \n",
            " 28  Col 35  100000 non-null  int64  \n",
            " 29  Col 36  100000 non-null  int64  \n",
            " 30  Col 38  100000 non-null  int64  \n",
            " 31  Col 39  100000 non-null  int64  \n",
            " 32  Col 40  100000 non-null  int64  \n",
            "dtypes: float64(8), int64(25)\n",
            "memory usage: 25.2 MB\n"
          ]
        }
      ]
    },
    {
      "cell_type": "code",
      "source": [
        "df.head()"
      ],
      "metadata": {
        "id": "pqMLQynUtfH4",
        "colab": {
          "base_uri": "https://localhost:8080/",
          "height": 235
        },
        "outputId": "eb6df6ac-c88f-4e32-c418-5e4d2a7c26c0"
      },
      "id": "pqMLQynUtfH4",
      "execution_count": 27,
      "outputs": [
        {
          "output_type": "execute_result",
          "data": {
            "text/plain": [
              "   Col 1  Col 2  Col 3  Col 4  Col 7  Col 8  Col 9  Col 10  Col 11   Col 13  \\\n",
              "0      1    5.0  110.0    4.0    1.0    0.0     14       7     1.0    306.0   \n",
              "1      0   32.0    3.0    5.0    0.0    0.0     61       5     0.0   3157.0   \n",
              "2      0    1.0  233.0    1.0    0.0    0.0     99       7     0.0   3101.0   \n",
              "3      0    1.0   24.0    4.0    0.0    0.0     56       3     0.0  20456.0   \n",
              "4      0   60.0  223.0    6.0    0.0    0.0      1       8     0.0   1582.0   \n",
              "\n",
              "   ...  Col 27  Col 29  Col 32  Col 33  Col 34  Col 35  Col 36  Col 38  \\\n",
              "0  ...       0    1549     265       9   18640    1190    3307    2510   \n",
              "1  ...       0    2754     227       9   24395    9205   17887    2356   \n",
              "2  ...       0    2787     136       9   18640    1190    3307    1074   \n",
              "3  ...       6     467     227       9   24507   14512   22658    3684   \n",
              "4  ...       4    2637     310       9   18987    2384   14928    4609   \n",
              "\n",
              "   Col 39  Col 40  \n",
              "0       2      24  \n",
              "1      21      19  \n",
              "2      41      24  \n",
              "3       2      19  \n",
              "4      27      24  \n",
              "\n",
              "[5 rows x 33 columns]"
            ],
            "text/html": [
              "\n",
              "  <div id=\"df-fab878de-5b10-4a3e-9b42-d6ace9403491\">\n",
              "    <div class=\"colab-df-container\">\n",
              "      <div>\n",
              "<style scoped>\n",
              "    .dataframe tbody tr th:only-of-type {\n",
              "        vertical-align: middle;\n",
              "    }\n",
              "\n",
              "    .dataframe tbody tr th {\n",
              "        vertical-align: top;\n",
              "    }\n",
              "\n",
              "    .dataframe thead th {\n",
              "        text-align: right;\n",
              "    }\n",
              "</style>\n",
              "<table border=\"1\" class=\"dataframe\">\n",
              "  <thead>\n",
              "    <tr style=\"text-align: right;\">\n",
              "      <th></th>\n",
              "      <th>Col 1</th>\n",
              "      <th>Col 2</th>\n",
              "      <th>Col 3</th>\n",
              "      <th>Col 4</th>\n",
              "      <th>Col 7</th>\n",
              "      <th>Col 8</th>\n",
              "      <th>Col 9</th>\n",
              "      <th>Col 10</th>\n",
              "      <th>Col 11</th>\n",
              "      <th>Col 13</th>\n",
              "      <th>...</th>\n",
              "      <th>Col 27</th>\n",
              "      <th>Col 29</th>\n",
              "      <th>Col 32</th>\n",
              "      <th>Col 33</th>\n",
              "      <th>Col 34</th>\n",
              "      <th>Col 35</th>\n",
              "      <th>Col 36</th>\n",
              "      <th>Col 38</th>\n",
              "      <th>Col 39</th>\n",
              "      <th>Col 40</th>\n",
              "    </tr>\n",
              "  </thead>\n",
              "  <tbody>\n",
              "    <tr>\n",
              "      <th>0</th>\n",
              "      <td>1</td>\n",
              "      <td>5.0</td>\n",
              "      <td>110.0</td>\n",
              "      <td>4.0</td>\n",
              "      <td>1.0</td>\n",
              "      <td>0.0</td>\n",
              "      <td>14</td>\n",
              "      <td>7</td>\n",
              "      <td>1.0</td>\n",
              "      <td>306.0</td>\n",
              "      <td>...</td>\n",
              "      <td>0</td>\n",
              "      <td>1549</td>\n",
              "      <td>265</td>\n",
              "      <td>9</td>\n",
              "      <td>18640</td>\n",
              "      <td>1190</td>\n",
              "      <td>3307</td>\n",
              "      <td>2510</td>\n",
              "      <td>2</td>\n",
              "      <td>24</td>\n",
              "    </tr>\n",
              "    <tr>\n",
              "      <th>1</th>\n",
              "      <td>0</td>\n",
              "      <td>32.0</td>\n",
              "      <td>3.0</td>\n",
              "      <td>5.0</td>\n",
              "      <td>0.0</td>\n",
              "      <td>0.0</td>\n",
              "      <td>61</td>\n",
              "      <td>5</td>\n",
              "      <td>0.0</td>\n",
              "      <td>3157.0</td>\n",
              "      <td>...</td>\n",
              "      <td>0</td>\n",
              "      <td>2754</td>\n",
              "      <td>227</td>\n",
              "      <td>9</td>\n",
              "      <td>24395</td>\n",
              "      <td>9205</td>\n",
              "      <td>17887</td>\n",
              "      <td>2356</td>\n",
              "      <td>21</td>\n",
              "      <td>19</td>\n",
              "    </tr>\n",
              "    <tr>\n",
              "      <th>2</th>\n",
              "      <td>0</td>\n",
              "      <td>1.0</td>\n",
              "      <td>233.0</td>\n",
              "      <td>1.0</td>\n",
              "      <td>0.0</td>\n",
              "      <td>0.0</td>\n",
              "      <td>99</td>\n",
              "      <td>7</td>\n",
              "      <td>0.0</td>\n",
              "      <td>3101.0</td>\n",
              "      <td>...</td>\n",
              "      <td>0</td>\n",
              "      <td>2787</td>\n",
              "      <td>136</td>\n",
              "      <td>9</td>\n",
              "      <td>18640</td>\n",
              "      <td>1190</td>\n",
              "      <td>3307</td>\n",
              "      <td>1074</td>\n",
              "      <td>41</td>\n",
              "      <td>24</td>\n",
              "    </tr>\n",
              "    <tr>\n",
              "      <th>3</th>\n",
              "      <td>0</td>\n",
              "      <td>1.0</td>\n",
              "      <td>24.0</td>\n",
              "      <td>4.0</td>\n",
              "      <td>0.0</td>\n",
              "      <td>0.0</td>\n",
              "      <td>56</td>\n",
              "      <td>3</td>\n",
              "      <td>0.0</td>\n",
              "      <td>20456.0</td>\n",
              "      <td>...</td>\n",
              "      <td>6</td>\n",
              "      <td>467</td>\n",
              "      <td>227</td>\n",
              "      <td>9</td>\n",
              "      <td>24507</td>\n",
              "      <td>14512</td>\n",
              "      <td>22658</td>\n",
              "      <td>3684</td>\n",
              "      <td>2</td>\n",
              "      <td>19</td>\n",
              "    </tr>\n",
              "    <tr>\n",
              "      <th>4</th>\n",
              "      <td>0</td>\n",
              "      <td>60.0</td>\n",
              "      <td>223.0</td>\n",
              "      <td>6.0</td>\n",
              "      <td>0.0</td>\n",
              "      <td>0.0</td>\n",
              "      <td>1</td>\n",
              "      <td>8</td>\n",
              "      <td>0.0</td>\n",
              "      <td>1582.0</td>\n",
              "      <td>...</td>\n",
              "      <td>4</td>\n",
              "      <td>2637</td>\n",
              "      <td>310</td>\n",
              "      <td>9</td>\n",
              "      <td>18987</td>\n",
              "      <td>2384</td>\n",
              "      <td>14928</td>\n",
              "      <td>4609</td>\n",
              "      <td>27</td>\n",
              "      <td>24</td>\n",
              "    </tr>\n",
              "  </tbody>\n",
              "</table>\n",
              "<p>5 rows × 33 columns</p>\n",
              "</div>\n",
              "      <button class=\"colab-df-convert\" onclick=\"convertToInteractive('df-fab878de-5b10-4a3e-9b42-d6ace9403491')\"\n",
              "              title=\"Convert this dataframe to an interactive table.\"\n",
              "              style=\"display:none;\">\n",
              "        \n",
              "  <svg xmlns=\"http://www.w3.org/2000/svg\" height=\"24px\"viewBox=\"0 0 24 24\"\n",
              "       width=\"24px\">\n",
              "    <path d=\"M0 0h24v24H0V0z\" fill=\"none\"/>\n",
              "    <path d=\"M18.56 5.44l.94 2.06.94-2.06 2.06-.94-2.06-.94-.94-2.06-.94 2.06-2.06.94zm-11 1L8.5 8.5l.94-2.06 2.06-.94-2.06-.94L8.5 2.5l-.94 2.06-2.06.94zm10 10l.94 2.06.94-2.06 2.06-.94-2.06-.94-.94-2.06-.94 2.06-2.06.94z\"/><path d=\"M17.41 7.96l-1.37-1.37c-.4-.4-.92-.59-1.43-.59-.52 0-1.04.2-1.43.59L10.3 9.45l-7.72 7.72c-.78.78-.78 2.05 0 2.83L4 21.41c.39.39.9.59 1.41.59.51 0 1.02-.2 1.41-.59l7.78-7.78 2.81-2.81c.8-.78.8-2.07 0-2.86zM5.41 20L4 18.59l7.72-7.72 1.47 1.35L5.41 20z\"/>\n",
              "  </svg>\n",
              "      </button>\n",
              "      \n",
              "  <style>\n",
              "    .colab-df-container {\n",
              "      display:flex;\n",
              "      flex-wrap:wrap;\n",
              "      gap: 12px;\n",
              "    }\n",
              "\n",
              "    .colab-df-convert {\n",
              "      background-color: #E8F0FE;\n",
              "      border: none;\n",
              "      border-radius: 50%;\n",
              "      cursor: pointer;\n",
              "      display: none;\n",
              "      fill: #1967D2;\n",
              "      height: 32px;\n",
              "      padding: 0 0 0 0;\n",
              "      width: 32px;\n",
              "    }\n",
              "\n",
              "    .colab-df-convert:hover {\n",
              "      background-color: #E2EBFA;\n",
              "      box-shadow: 0px 1px 2px rgba(60, 64, 67, 0.3), 0px 1px 3px 1px rgba(60, 64, 67, 0.15);\n",
              "      fill: #174EA6;\n",
              "    }\n",
              "\n",
              "    [theme=dark] .colab-df-convert {\n",
              "      background-color: #3B4455;\n",
              "      fill: #D2E3FC;\n",
              "    }\n",
              "\n",
              "    [theme=dark] .colab-df-convert:hover {\n",
              "      background-color: #434B5C;\n",
              "      box-shadow: 0px 1px 3px 1px rgba(0, 0, 0, 0.15);\n",
              "      filter: drop-shadow(0px 1px 2px rgba(0, 0, 0, 0.3));\n",
              "      fill: #FFFFFF;\n",
              "    }\n",
              "  </style>\n",
              "\n",
              "      <script>\n",
              "        const buttonEl =\n",
              "          document.querySelector('#df-fab878de-5b10-4a3e-9b42-d6ace9403491 button.colab-df-convert');\n",
              "        buttonEl.style.display =\n",
              "          google.colab.kernel.accessAllowed ? 'block' : 'none';\n",
              "\n",
              "        async function convertToInteractive(key) {\n",
              "          const element = document.querySelector('#df-fab878de-5b10-4a3e-9b42-d6ace9403491');\n",
              "          const dataTable =\n",
              "            await google.colab.kernel.invokeFunction('convertToInteractive',\n",
              "                                                     [key], {});\n",
              "          if (!dataTable) return;\n",
              "\n",
              "          const docLinkHtml = 'Like what you see? Visit the ' +\n",
              "            '<a target=\"_blank\" href=https://colab.research.google.com/notebooks/data_table.ipynb>data table notebook</a>'\n",
              "            + ' to learn more about interactive tables.';\n",
              "          element.innerHTML = '';\n",
              "          dataTable['output_type'] = 'display_data';\n",
              "          await google.colab.output.renderOutput(dataTable, element);\n",
              "          const docLink = document.createElement('div');\n",
              "          docLink.innerHTML = docLinkHtml;\n",
              "          element.appendChild(docLink);\n",
              "        }\n",
              "      </script>\n",
              "    </div>\n",
              "  </div>\n",
              "  "
            ]
          },
          "metadata": {},
          "execution_count": 27
        }
      ]
    },
    {
      "cell_type": "code",
      "source": [
        "X = df.iloc[:,1:]\n",
        "y = df.iloc[:, :1]"
      ],
      "metadata": {
        "id": "kqy5uMhNvyoo"
      },
      "id": "kqy5uMhNvyoo",
      "execution_count": 28,
      "outputs": []
    },
    {
      "cell_type": "code",
      "source": [
        "from sklearn.preprocessing import StandardScaler\n",
        "\n",
        "scaler = StandardScaler().fit(X.iloc[:,:11])\n",
        "X.iloc[:,:11] = scaler.transform(X.iloc[:,:11])"
      ],
      "metadata": {
        "id": "sC23P0PyzLpe"
      },
      "id": "sC23P0PyzLpe",
      "execution_count": 29,
      "outputs": []
    },
    {
      "cell_type": "code",
      "source": [
        "from sklearn.model_selection import train_test_split\n",
        "X_train,X_test,y_train,y_test=train_test_split(X,y,test_size=0.3,random_state=42)"
      ],
      "metadata": {
        "id": "ejpTC29hzNnf"
      },
      "id": "ejpTC29hzNnf",
      "execution_count": 30,
      "outputs": []
    },
    {
      "cell_type": "code",
      "source": [
        "# train a logistic regression model on the training set\n",
        "from sklearn.linear_model import LogisticRegression\n",
        "\n",
        "\n",
        "# instantiate the model\n",
        "logreg = LogisticRegression(solver='liblinear', random_state=0)\n",
        "\n",
        "\n",
        "# fit the model\n",
        "logreg.fit(X_train, y_train)"
      ],
      "metadata": {
        "colab": {
          "base_uri": "https://localhost:8080/"
        },
        "id": "wPITJPh1zPpM",
        "outputId": "22ab786f-3ab8-4292-9f4b-35be2df8ee30"
      },
      "id": "wPITJPh1zPpM",
      "execution_count": 31,
      "outputs": [
        {
          "output_type": "stream",
          "name": "stderr",
          "text": [
            "/usr/local/lib/python3.7/dist-packages/sklearn/utils/validation.py:993: DataConversionWarning: A column-vector y was passed when a 1d array was expected. Please change the shape of y to (n_samples, ), for example using ravel().\n",
            "  y = column_or_1d(y, warn=True)\n"
          ]
        },
        {
          "output_type": "execute_result",
          "data": {
            "text/plain": [
              "LogisticRegression(random_state=0, solver='liblinear')"
            ]
          },
          "metadata": {},
          "execution_count": 31
        }
      ]
    },
    {
      "cell_type": "code",
      "source": [
        "y_pred_test = logreg.predict(X_test)\n",
        "\n",
        "y_pred_test"
      ],
      "metadata": {
        "colab": {
          "base_uri": "https://localhost:8080/"
        },
        "id": "uahdHCJ-zS8u",
        "outputId": "4e53900f-fb53-4202-d527-92bf89f19136"
      },
      "id": "uahdHCJ-zS8u",
      "execution_count": 32,
      "outputs": [
        {
          "output_type": "execute_result",
          "data": {
            "text/plain": [
              "array([0, 0, 0, ..., 0, 0, 0])"
            ]
          },
          "metadata": {},
          "execution_count": 32
        }
      ]
    },
    {
      "cell_type": "code",
      "source": [
        "from sklearn.metrics import accuracy_score"
      ],
      "metadata": {
        "id": "uiUXvO-wz_nH"
      },
      "id": "uiUXvO-wz_nH",
      "execution_count": 33,
      "outputs": []
    },
    {
      "cell_type": "code",
      "source": [
        "print('Test-set accuracy score: {0:0.4f}'. format(accuracy_score(y_test, y_pred_test)))"
      ],
      "metadata": {
        "colab": {
          "base_uri": "https://localhost:8080/"
        },
        "id": "eTTW8xKjzWNY",
        "outputId": "1b4c5c50-db55-40e5-dcae-f4e68d15c781"
      },
      "id": "eTTW8xKjzWNY",
      "execution_count": 39,
      "outputs": [
        {
          "output_type": "stream",
          "name": "stdout",
          "text": [
            "Test-set accuracy score: 0.9732\n"
          ]
        }
      ]
    },
    {
      "cell_type": "code",
      "source": [
        "print('Training-set accuracy score: {0:0.4f}'. format(accuracy_score(y_train, logreg.predict(X_train))))"
      ],
      "metadata": {
        "colab": {
          "base_uri": "https://localhost:8080/"
        },
        "id": "Vq0CV2MkTUN_",
        "outputId": "35722026-2f22-4943-ac3f-436504dcf195"
      },
      "id": "Vq0CV2MkTUN_",
      "execution_count": 40,
      "outputs": [
        {
          "output_type": "stream",
          "name": "stdout",
          "text": [
            "Training-set accuracy score: 0.9731\n"
          ]
        }
      ]
    },
    {
      "cell_type": "code",
      "source": [],
      "metadata": {
        "id": "VnCbKOVETde1"
      },
      "id": "VnCbKOVETde1",
      "execution_count": null,
      "outputs": []
    }
  ],
  "metadata": {
    "kernelspec": {
      "display_name": "Python 3 (ipykernel)",
      "language": "python",
      "name": "python3"
    },
    "language_info": {
      "codemirror_mode": {
        "name": "ipython",
        "version": 3
      },
      "file_extension": ".py",
      "mimetype": "text/x-python",
      "name": "python",
      "nbconvert_exporter": "python",
      "pygments_lexer": "ipython3",
      "version": "3.9.12"
    },
    "colab": {
      "provenance": []
    }
  },
  "nbformat": 4,
  "nbformat_minor": 5
}